{
 "cells": [
  {
   "cell_type": "code",
   "execution_count": null,
   "metadata": {},
   "outputs": [],
   "source": [
    "import requests\n",
    "import os\n",
    "import json\n",
    "\n",
    "# Lade die Zugangsdaten aus der JSON-Datei\n",
    "with open(\"kaggle.json\", \"r\") as f:\n",
    "    kaggle_info = json.load(f)\n",
    "\n",
    "# Setze Kaggle-Zugangsdaten als Umgebungsvariablen\n",
    "os.environ[\"KAGGLE_USERNAME\"] = kaggle_info[\"username\"]\n",
    "os.environ[\"KAGGLE_KEY\"] = kaggle_info[\"key\"]\n",
    "\n",
    "# Die Kaggle-API-URL für den Datensatz\n",
    "dataset_api_url = 'kaggle datasets download -d adityadesai13/used-car-dataset-ford-and-mercedes'\n",
    "\n",
    "# Der lokale Dateipfad, in dem der Datensatz gespeichert wird.\n",
    "local_filename = \"actual.csv\"\n",
    "\n",
    "# Kaggle API gibt uns die direkte Download-URL für die Datei\n",
    "r = requests.get(dataset_api_url, stream=True)\n",
    "\n",
    "# Schreibt die Daten in eine lokale Datei\n",
    "with open(local_filename, 'wb') as f:\n",
    "    for chunk in r.iter_content(chunk_size=8192):\n",
    "        f.write(chunk)\n"
   ]
  }
 ],
 "metadata": {
  "kernelspec": {
   "display_name": "base",
   "language": "python",
   "name": "python3"
  },
  "language_info": {
   "codemirror_mode": {
    "name": "ipython",
    "version": 3
   },
   "file_extension": ".py",
   "mimetype": "text/x-python",
   "name": "python",
   "nbconvert_exporter": "python",
   "pygments_lexer": "ipython3",
   "version": "3.10.9"
  },
  "orig_nbformat": 4
 },
 "nbformat": 4,
 "nbformat_minor": 2
}
