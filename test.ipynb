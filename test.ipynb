{
 "cells": [
  {
   "cell_type": "code",
   "execution_count": null,
   "metadata": {},
   "outputs": [],
   "source": [
    "import os\n",
    "import kaggle\n",
    "\n",
    "# Setze den Pfad zu deiner kaggle.json-Datei\n",
    "kaggle_json_path = './API_Token/kaggle.json'\n",
    "os.environ[\"KAGGLE_CONFIG_DIR\"] = os.path.dirname(kaggle_json_path)\n",
    "\n",
    "kaggle.api.authenticate()  # Authentifiziere den API-Zugriff mit deinem kaggle.json-Schlüssel\n",
    "kaggle.api.dataset_download_files(dataset='adityadesai13/used-car-dataset-ford-and-mercedes', path='./', unzip=True)\n"
   ]
  },
  {
   "cell_type": "code",
   "execution_count": null,
   "metadata": {},
   "outputs": [],
   "source": []
  }
 ],
 "metadata": {
  "kernelspec": {
   "display_name": "base",
   "language": "python",
   "name": "python3"
  },
  "language_info": {
   "codemirror_mode": {
    "name": "ipython",
    "version": 3
   },
   "file_extension": ".py",
   "mimetype": "text/x-python",
   "name": "python",
   "nbconvert_exporter": "python",
   "pygments_lexer": "ipython3",
   "version": "3.10.9"
  },
  "orig_nbformat": 4
 },
 "nbformat": 4,
 "nbformat_minor": 2
}
