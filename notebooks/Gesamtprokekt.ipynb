{
 "cells": [
  {
   "cell_type": "markdown",
   "metadata": {},
   "source": [
    "<span style=\"color:DarkBlue;font-size:18px\">Semesterabschließende schriftliche Ausarbeitung im Modul Machine Learning (SS2023)</span>\n",
    "\n",
    "<span style=\"color:DarkBlue;font-size:32px\">Preisvorhersage von Gebrauchtwagen </span>\n",
    "\n",
    "<span style=\"color:DarkBlue;font-size:18px\"> Bearbeitet von M.Sc. Onur Yilmaz</span>"
   ]
  },
  {
   "cell_type": "markdown",
   "metadata": {},
   "source": [
    "### **Inhaltsverzeichnis**\n",
    "\n",
    "#### **Einleitung**\n",
    "\n",
    "#### **1. Datenaufbereitung**\n",
    "#### **2. Explorative Datenanalyse**\n",
    "#### **3. Feature Engineering**\n",
    "#### **4. Modell Auswahl und Training**\n",
    "#### **5. Modell Bewertung**\n",
    "#### **6. Streamlit** \n",
    "#### **Literaturverzeichnis**\n"
   ]
  },
  {
   "cell_type": "markdown",
   "metadata": {},
   "source": [
    "\n",
    "\n",
    "### **Einleitung**"
   ]
  },
  {
   "cell_type": "markdown",
   "metadata": {},
   "source": [
    "In der vorliegenden semesterabschließenden Arbeit wird ein aufbereiteter Datensatz von 100.000 gebrauchten Autoanzeigen aus dem Vereinigten Königreich analysiert. Der Datensatz wurde von der Plattform Kaggle bezogen - https://www.kaggle.com/datasets/adityadesai13/used-car-dataset-ford-and-mercedes.\n",
    "\n",
    "Das Hauptziel dieser Arbeit ist die Wahl und Implementierung eines geeigneten maschinellen Lernmodells zur Preisvorhersage von Gebrauchtwagen.\n",
    "\n",
    "Die Arbeit gliedert sich in verschiedene Abschnitte, beginnend mit der Datenaufbereitung, gefolgt von der explorativen Datenanalyse und dem Feature Engineering. Anschließend wird das passende Modell ausgewählt und trainiert, bevor es bewertet wird. Zusätzlich wird die Implementierung in Streamlit durchgeführt, um eine interaktive Webanwendung zur Darstellung der Ergebnisse zu erstellen.\n",
    "\n",
    "Der Datensatz ist in einzelne Dateien nach Autoherstellern unterteilt und enthält Informationen wie Preis, Getriebe, Kilometerstand, Kraftstoffart, Kfz-Steuer, Verbrauch in Meilen pro Gallone (mpg) und Motorgröße.\n",
    "\n",
    "*Das gesamte Projekt kann aus dem folgenden Repository geklont werden: https://www.github.com/ONURYI*"
   ]
  },
  {
   "cell_type": "markdown",
   "metadata": {},
   "source": [
    "### **1. Datenaufbereitung**"
   ]
  },
  {
   "cell_type": "markdown",
   "metadata": {},
   "source": [
    "Die Datenaufbereitung ist oft ein entscheidender, aber sehr zeitaufwendiger Schritt, welches im Prozess des maschinellen Lernens vorab gemacht werden muss. Diese umfasst eine Reihe von Techniken zur Reinigung, Transformation und Organisation der Rohdaten in ein Format, das für die Analyse geeignet ist. Diese Phase legt das Fundament für die Modellbildung, indem sie sicherstellt, dass die Daten qualitativ hochwertig und relevant sind, und trägt so wesentlich zur Genauigkeit und Effizienz des endgültigen Modells bei [2].\n",
    "\n",
    "Im Rahmen unseres Projektes beziehen wir die folgende CSV-Files (csv = comma seperated value):\n",
    "\n",
    "- *audi.csv*\n",
    "- *bmw.csv*\n",
    "- *ford.csv*\n",
    "- *hyundi.csv*\n",
    "- *mercedes.csv*\n",
    "- *skoda.csv*\n",
    "- *toyota.csv*\n",
    "- *vauxhall.csv*\n",
    "- *vw.csv*\n",
    "\n",
    "\n",
    "welche unter dem Ornder **/data** abgelegt sind und nach dem Aufbereitungs - und Bereinigungprozess dem Ordner **/data (clean)** als eine einzige CSV Datei hinzugefügt wird."
   ]
  },
  {
   "cell_type": "code",
   "execution_count": null,
   "metadata": {},
   "outputs": [],
   "source": []
  },
  {
   "cell_type": "code",
   "execution_count": null,
   "metadata": {},
   "outputs": [],
   "source": []
  },
  {
   "cell_type": "code",
   "execution_count": null,
   "metadata": {},
   "outputs": [],
   "source": []
  },
  {
   "cell_type": "code",
   "execution_count": null,
   "metadata": {},
   "outputs": [],
   "source": []
  },
  {
   "cell_type": "code",
   "execution_count": null,
   "metadata": {},
   "outputs": [],
   "source": []
  },
  {
   "cell_type": "code",
   "execution_count": null,
   "metadata": {},
   "outputs": [],
   "source": []
  },
  {
   "cell_type": "code",
   "execution_count": null,
   "metadata": {},
   "outputs": [],
   "source": []
  },
  {
   "cell_type": "markdown",
   "metadata": {},
   "source": [
    "### **Literaturverzeichnis**\n",
    "\n",
    "[1] https://www.kaggle.com/datasets/adityadesai13/used-car-dataset-ford-and-mercedes (01.08.2023)\n",
    "\n",
    "[2] Müller, A. C., & Guido, S. (2021). Introduction to Machine Learning with Python: A Guide for Data Scientists (2nd ed.). O'Reilly Media"
   ]
  }
 ],
 "metadata": {
  "kernelspec": {
   "display_name": "base",
   "language": "python",
   "name": "python3"
  },
  "language_info": {
   "name": "python",
   "version": "3.10.9"
  },
  "orig_nbformat": 4
 },
 "nbformat": 4,
 "nbformat_minor": 2
}
