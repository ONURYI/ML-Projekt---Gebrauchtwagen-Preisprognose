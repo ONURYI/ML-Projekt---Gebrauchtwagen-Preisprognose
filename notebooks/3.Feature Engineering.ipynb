{
 "cells": [
  {
   "cell_type": "markdown",
   "metadata": {},
   "source": [
    "## 3.Feature Engineering und Modell Training"
   ]
  },
  {
   "cell_type": "code",
   "execution_count": null,
   "metadata": {},
   "outputs": [],
   "source": [
    "# Module import\n",
    "import pandas as pd\n",
    "import matplotlib.pyplot as plt\n",
    "import seaborn as sns\n",
    "\n",
    "df = pd.read_csv('../data (clean)/df_clean.csv')\n",
    "df.head()"
   ]
  },
  {
   "cell_type": "markdown",
   "metadata": {},
   "source": [
    "Da wir ein Modell zur Preisvorhersage erstellen möchten, wird die Spalte \"Preis (€)\" unsere Zielvariable sein. Die anderen Spalten können als Features verwendet werden. Einige davon sind kategorisch, wie z.B. Marke und Getriebe, und müssen entsprechend behandelt werden."
   ]
  },
  {
   "cell_type": "markdown",
   "metadata": {},
   "source": [
    "Hier ist ein Vorschlag für das Feature Engineering:\n",
    "\n",
    "- Kategorische Variablen: Wir werden die Spalten \"Marke\", \"Modell\", \"Getriebe\" und \"Kraftstoffart\" in numerische Variablen umwandeln, indem wir One-Hot-Encoding verwenden.\n",
    "\n",
    "- Numerische Variablen: Baujahr, Kilometerstand, Verbrauch, Motorgröße und Steuer (€) können als numerische Features verwendet werden."
   ]
  },
  {
   "cell_type": "code",
   "execution_count": null,
   "metadata": {},
   "outputs": [],
   "source": [
    "# Importing necessary library for encoding\n",
    "from sklearn.preprocessing import LabelEncoder\n",
    "\n",
    "# Applying Label Encoding to the categorical columns\n",
    "label_columns = ['Marke', 'Modell', 'Getriebe', 'Kraftstoffart']\n",
    "\n",
    "# Creating a copy of the DataFrame for further processing\n",
    "df_encoded = df.copy()\n",
    "\n",
    "for column in label_columns:\n",
    "    encoder = LabelEncoder()\n",
    "    df_encoded[column] = encoder.fit_transform(df_encoded[column])\n",
    "\n",
    "# Displaying the first few rows of the encoded DataFrame\n",
    "df_encoded.head()\n"
   ]
  },
  {
   "cell_type": "code",
   "execution_count": null,
   "metadata": {},
   "outputs": [],
   "source": [
    "# Calculating the age of the car\n",
    "current_year = 2023\n",
    "df_encoded['Alter'] = current_year - df_encoded['Baujahr']\n",
    "\n",
    "# Separating the features and target variable\n",
    "X = df_encoded.drop(columns=['Preis (€)'])\n",
    "y = df_encoded['Preis (€)']\n",
    "\n",
    "# Saving the feature matrix and target variable as CSV files\n",
    "feature_matrix = '../model/feature_matrix.csv'\n",
    "target_variable = '../model/target_variable.csv'\n",
    "\n",
    "X.to_csv(feature_matrix, index=False)\n",
    "y.to_csv(target_variable, index=False)\n",
    "\n",
    "feature_matrix, target_variable"
   ]
  }
 ],
 "metadata": {
  "kernelspec": {
   "display_name": "base",
   "language": "python",
   "name": "python3"
  },
  "language_info": {
   "codemirror_mode": {
    "name": "ipython",
    "version": 3
   },
   "file_extension": ".py",
   "mimetype": "text/x-python",
   "name": "python",
   "nbconvert_exporter": "python",
   "pygments_lexer": "ipython3",
   "version": "3.10.9"
  },
  "orig_nbformat": 4
 },
 "nbformat": 4,
 "nbformat_minor": 2
}
