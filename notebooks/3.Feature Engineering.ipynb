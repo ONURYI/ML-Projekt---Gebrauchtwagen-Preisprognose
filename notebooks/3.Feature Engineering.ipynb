{
 "cells": [
  {
   "cell_type": "markdown",
   "metadata": {},
   "source": [
    "## 3. Feature Engineering"
   ]
  },
  {
   "cell_type": "code",
   "execution_count": 7,
   "metadata": {},
   "outputs": [],
   "source": [
    "# Module import\n",
    "import pandas as pd\n",
    "import matplotlib.pyplot as plt\n",
    "import seaborn as sns\n",
    "\n",
    "cleaned_data = pd.read_csv('../data (clean)/cleaned_data.csv')"
   ]
  },
  {
   "cell_type": "markdown",
   "metadata": {},
   "source": [
    "\n",
    "- Laden des bereinigten Datensatzes.\n",
    "- Durchführen des Label Encodings für kategorische Spalten.\n",
    "- Berechnen des Alters der Autos.\n",
    "- Trennen von Features und Zielvariable."
   ]
  },
  {
   "cell_type": "code",
   "execution_count": 8,
   "metadata": {},
   "outputs": [
    {
     "data": {
      "text/plain": [
       "(   Marke  Modell  Getriebe  Kilometerstand  Kraftstoffart  \\\n",
       " 0      0       9         2           25322              1   \n",
       " 1      0      14         0           58262              2   \n",
       " 2      0       9         2           48193              1   \n",
       " 3      0      12         0           41765              2   \n",
       " 4      0      11         2            3215              1   \n",
       " \n",
       "    Verbrauch (l/100km)  Motorgröße (l)  Alter  \n",
       " 0                 4.25             1.4      6  \n",
       " 1                 3.66             2.0      7  \n",
       " 2                 4.25             1.4      7  \n",
       " 3                 3.50             2.0      6  \n",
       " 4                 4.74             1.0      4  ,\n",
       " 0    14375.0\n",
       " 1    18975.0\n",
       " 2    12650.0\n",
       " 3    19320.0\n",
       " 4    19895.0\n",
       " Name: Preis (€), dtype: float64)"
      ]
     },
     "execution_count": 8,
     "metadata": {},
     "output_type": "execute_result"
    }
   ],
   "source": [
    "from sklearn.preprocessing import LabelEncoder\n",
    "\n",
    "# Entfernen der Spalte \"Steuer (€)\"\n",
    "cleaned_data.drop(columns='Steuer (€)', inplace=True)\n",
    "\n",
    "# Anwenden des Label Encodings auf die kategorischen Spalten\n",
    "label_columns = ['Marke', 'Modell', 'Getriebe', 'Kraftstoffart']\n",
    "encoders = {}\n",
    "for column in label_columns:\n",
    "    encoder = LabelEncoder()\n",
    "    cleaned_data[column] = encoder.fit_transform(cleaned_data[column])\n",
    "    encoders[column] = encoder\n",
    "\n",
    "# Berechnen des Alters der Autos\n",
    "current_year = 2023\n",
    "cleaned_data['Alter'] = current_year - cleaned_data['Baujahr']\n",
    "cleaned_data.drop(columns='Baujahr', inplace=True)  # Baujahr entfernen\n",
    "\n",
    "# Trennen von Features und Zielvariable\n",
    "X_feature_engineered = cleaned_data.drop(columns=['Preis (€)'])\n",
    "y_target_variable = cleaned_data['Preis (€)']\n",
    "\n",
    "# Anzeigen der ersten paar Zeilen der transformierten Daten\n",
    "X_feature_engineered.head(), y_target_variable.head()\n"
   ]
  }
 ],
 "metadata": {
  "kernelspec": {
   "display_name": "base",
   "language": "python",
   "name": "python3"
  },
  "language_info": {
   "codemirror_mode": {
    "name": "ipython",
    "version": 3
   },
   "file_extension": ".py",
   "mimetype": "text/x-python",
   "name": "python",
   "nbconvert_exporter": "python",
   "pygments_lexer": "ipython3",
   "version": "3.10.9"
  },
  "orig_nbformat": 4
 },
 "nbformat": 4,
 "nbformat_minor": 2
}
