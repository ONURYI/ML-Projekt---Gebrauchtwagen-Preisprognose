{
 "cells": [
  {
   "cell_type": "markdown",
   "metadata": {},
   "source": [
    "## 3. Feature Engineering"
   ]
  },
  {
   "cell_type": "code",
   "execution_count": 1,
   "metadata": {},
   "outputs": [],
   "source": [
    "# Module import\n",
    "import pandas as pd\n",
    "import matplotlib.pyplot as plt\n",
    "import seaborn as sns\n",
    "\n",
    "df = pd.read_csv('../data (clean)/df_clean.csv')"
   ]
  },
  {
   "cell_type": "code",
   "execution_count": 2,
   "metadata": {},
   "outputs": [
    {
     "data": {
      "text/html": [
       "<div>\n",
       "<style scoped>\n",
       "    .dataframe tbody tr th:only-of-type {\n",
       "        vertical-align: middle;\n",
       "    }\n",
       "\n",
       "    .dataframe tbody tr th {\n",
       "        vertical-align: top;\n",
       "    }\n",
       "\n",
       "    .dataframe thead th {\n",
       "        text-align: right;\n",
       "    }\n",
       "</style>\n",
       "<table border=\"1\" class=\"dataframe\">\n",
       "  <thead>\n",
       "    <tr style=\"text-align: right;\">\n",
       "      <th></th>\n",
       "      <th>Marke</th>\n",
       "      <th>Modell</th>\n",
       "      <th>Baujahr</th>\n",
       "      <th>Getriebe</th>\n",
       "      <th>Kilometerstand</th>\n",
       "      <th>Kraftstoffart</th>\n",
       "      <th>Verbrauch (l/100km)</th>\n",
       "      <th>Motorgröße (l)</th>\n",
       "      <th>Preis (€)</th>\n",
       "    </tr>\n",
       "  </thead>\n",
       "  <tbody>\n",
       "    <tr>\n",
       "      <th>0</th>\n",
       "      <td>Audi</td>\n",
       "      <td>A1</td>\n",
       "      <td>2017</td>\n",
       "      <td>Manuell</td>\n",
       "      <td>25322</td>\n",
       "      <td>Benzin</td>\n",
       "      <td>4.25</td>\n",
       "      <td>1.4</td>\n",
       "      <td>14375.0</td>\n",
       "    </tr>\n",
       "    <tr>\n",
       "      <th>1</th>\n",
       "      <td>Audi</td>\n",
       "      <td>A6</td>\n",
       "      <td>2016</td>\n",
       "      <td>Automatik</td>\n",
       "      <td>58262</td>\n",
       "      <td>Diesel</td>\n",
       "      <td>3.66</td>\n",
       "      <td>2.0</td>\n",
       "      <td>18975.0</td>\n",
       "    </tr>\n",
       "    <tr>\n",
       "      <th>2</th>\n",
       "      <td>Audi</td>\n",
       "      <td>A1</td>\n",
       "      <td>2016</td>\n",
       "      <td>Manuell</td>\n",
       "      <td>48193</td>\n",
       "      <td>Benzin</td>\n",
       "      <td>4.25</td>\n",
       "      <td>1.4</td>\n",
       "      <td>12650.0</td>\n",
       "    </tr>\n",
       "    <tr>\n",
       "      <th>3</th>\n",
       "      <td>Audi</td>\n",
       "      <td>A4</td>\n",
       "      <td>2017</td>\n",
       "      <td>Automatik</td>\n",
       "      <td>41765</td>\n",
       "      <td>Diesel</td>\n",
       "      <td>3.50</td>\n",
       "      <td>2.0</td>\n",
       "      <td>19320.0</td>\n",
       "    </tr>\n",
       "    <tr>\n",
       "      <th>4</th>\n",
       "      <td>Audi</td>\n",
       "      <td>A3</td>\n",
       "      <td>2019</td>\n",
       "      <td>Manuell</td>\n",
       "      <td>3215</td>\n",
       "      <td>Benzin</td>\n",
       "      <td>4.74</td>\n",
       "      <td>1.0</td>\n",
       "      <td>19895.0</td>\n",
       "    </tr>\n",
       "  </tbody>\n",
       "</table>\n",
       "</div>"
      ],
      "text/plain": [
       "  Marke Modell  Baujahr   Getriebe  Kilometerstand Kraftstoffart  \\\n",
       "0  Audi     A1     2017    Manuell           25322        Benzin   \n",
       "1  Audi     A6     2016  Automatik           58262        Diesel   \n",
       "2  Audi     A1     2016    Manuell           48193        Benzin   \n",
       "3  Audi     A4     2017  Automatik           41765        Diesel   \n",
       "4  Audi     A3     2019    Manuell            3215        Benzin   \n",
       "\n",
       "   Verbrauch (l/100km)  Motorgröße (l)  Preis (€)  \n",
       "0                 4.25             1.4    14375.0  \n",
       "1                 3.66             2.0    18975.0  \n",
       "2                 4.25             1.4    12650.0  \n",
       "3                 3.50             2.0    19320.0  \n",
       "4                 4.74             1.0    19895.0  "
      ]
     },
     "execution_count": 2,
     "metadata": {},
     "output_type": "execute_result"
    }
   ],
   "source": [
    "df = df.drop(columns='Steuer (€)')\n",
    "df.head()"
   ]
  },
  {
   "cell_type": "markdown",
   "metadata": {},
   "source": [
    "- Kategorische Merkmale kodieren: Die kategorischen Merkmale wie Marke, Modell, Getriebe und Kraftstoffart müssen in numerische Werte umgewandelt werden.\n",
    "- Daten aufteilen: Teilen Sie die Daten in Trainings- und Testsets auf, um das Modell zu validieren.\n",
    "- Skalierung der Merkmale: Wenn nötig, können wir die numerischen Merkmale skalieren, um sie in einem ähnlichen Wertebereich zu halten."
   ]
  },
  {
   "cell_type": "code",
   "execution_count": 3,
   "metadata": {},
   "outputs": [
    {
     "data": {
      "text/html": [
       "<div>\n",
       "<style scoped>\n",
       "    .dataframe tbody tr th:only-of-type {\n",
       "        vertical-align: middle;\n",
       "    }\n",
       "\n",
       "    .dataframe tbody tr th {\n",
       "        vertical-align: top;\n",
       "    }\n",
       "\n",
       "    .dataframe thead th {\n",
       "        text-align: right;\n",
       "    }\n",
       "</style>\n",
       "<table border=\"1\" class=\"dataframe\">\n",
       "  <thead>\n",
       "    <tr style=\"text-align: right;\">\n",
       "      <th></th>\n",
       "      <th>Marke</th>\n",
       "      <th>Modell</th>\n",
       "      <th>Baujahr</th>\n",
       "      <th>Getriebe</th>\n",
       "      <th>Kilometerstand</th>\n",
       "      <th>Kraftstoffart</th>\n",
       "      <th>Verbrauch (l/100km)</th>\n",
       "      <th>Motorgröße (l)</th>\n",
       "      <th>Preis (€)</th>\n",
       "    </tr>\n",
       "  </thead>\n",
       "  <tbody>\n",
       "    <tr>\n",
       "      <th>0</th>\n",
       "      <td>0</td>\n",
       "      <td>12</td>\n",
       "      <td>2017</td>\n",
       "      <td>2</td>\n",
       "      <td>25322</td>\n",
       "      <td>1</td>\n",
       "      <td>4.25</td>\n",
       "      <td>1.4</td>\n",
       "      <td>14375.0</td>\n",
       "    </tr>\n",
       "    <tr>\n",
       "      <th>1</th>\n",
       "      <td>0</td>\n",
       "      <td>17</td>\n",
       "      <td>2016</td>\n",
       "      <td>0</td>\n",
       "      <td>58262</td>\n",
       "      <td>2</td>\n",
       "      <td>3.66</td>\n",
       "      <td>2.0</td>\n",
       "      <td>18975.0</td>\n",
       "    </tr>\n",
       "    <tr>\n",
       "      <th>2</th>\n",
       "      <td>0</td>\n",
       "      <td>12</td>\n",
       "      <td>2016</td>\n",
       "      <td>2</td>\n",
       "      <td>48193</td>\n",
       "      <td>1</td>\n",
       "      <td>4.25</td>\n",
       "      <td>1.4</td>\n",
       "      <td>12650.0</td>\n",
       "    </tr>\n",
       "    <tr>\n",
       "      <th>3</th>\n",
       "      <td>0</td>\n",
       "      <td>15</td>\n",
       "      <td>2017</td>\n",
       "      <td>0</td>\n",
       "      <td>41765</td>\n",
       "      <td>2</td>\n",
       "      <td>3.50</td>\n",
       "      <td>2.0</td>\n",
       "      <td>19320.0</td>\n",
       "    </tr>\n",
       "    <tr>\n",
       "      <th>4</th>\n",
       "      <td>0</td>\n",
       "      <td>14</td>\n",
       "      <td>2019</td>\n",
       "      <td>2</td>\n",
       "      <td>3215</td>\n",
       "      <td>1</td>\n",
       "      <td>4.74</td>\n",
       "      <td>1.0</td>\n",
       "      <td>19895.0</td>\n",
       "    </tr>\n",
       "  </tbody>\n",
       "</table>\n",
       "</div>"
      ],
      "text/plain": [
       "   Marke  Modell  Baujahr  Getriebe  Kilometerstand  Kraftstoffart  \\\n",
       "0      0      12     2017         2           25322              1   \n",
       "1      0      17     2016         0           58262              2   \n",
       "2      0      12     2016         2           48193              1   \n",
       "3      0      15     2017         0           41765              2   \n",
       "4      0      14     2019         2            3215              1   \n",
       "\n",
       "   Verbrauch (l/100km)  Motorgröße (l)  Preis (€)  \n",
       "0                 4.25             1.4    14375.0  \n",
       "1                 3.66             2.0    18975.0  \n",
       "2                 4.25             1.4    12650.0  \n",
       "3                 3.50             2.0    19320.0  \n",
       "4                 4.74             1.0    19895.0  "
      ]
     },
     "execution_count": 3,
     "metadata": {},
     "output_type": "execute_result"
    }
   ],
   "source": [
    "from sklearn.preprocessing import LabelEncoder\n",
    "\n",
    "# Liste der kategorischen Merkmale\n",
    "categorical_features = ['Marke', 'Modell', 'Getriebe', 'Kraftstoffart']\n",
    "\n",
    "# Wörterbuch, um die Encoder für jedes kategorische Merkmal zu speichern\n",
    "encoders = {}\n",
    "\n",
    "# Kodiere jedes kategorische Merkmal mit einem LabelEncoder\n",
    "for feature in categorical_features:\n",
    "    encoder = LabelEncoder()\n",
    "    df[feature] = encoder.fit_transform(df[feature])\n",
    "    encoders[feature] = encoder\n",
    "\n",
    "# Zeige die ersten paar Zeilen des kodierten Datensatzes an\n",
    "df.head()\n"
   ]
  },
  {
   "cell_type": "code",
   "execution_count": 4,
   "metadata": {},
   "outputs": [
    {
     "data": {
      "text/plain": [
       "{'Marke': LabelEncoder(),\n",
       " 'Modell': LabelEncoder(),\n",
       " 'Getriebe': LabelEncoder(),\n",
       " 'Kraftstoffart': LabelEncoder()}"
      ]
     },
     "execution_count": 4,
     "metadata": {},
     "output_type": "execute_result"
    }
   ],
   "source": [
    "encoders"
   ]
  },
  {
   "cell_type": "code",
   "execution_count": 5,
   "metadata": {},
   "outputs": [
    {
     "data": {
      "text/plain": [
       "('../model/encoded_data.csv', '../model/encoders.joblib')"
      ]
     },
     "execution_count": 5,
     "metadata": {},
     "output_type": "execute_result"
    }
   ],
   "source": [
    "from joblib import dump\n",
    "\n",
    "# Speichern Sie den kodierten DataFrame als CSV-Datei\n",
    "csv_file_path = '../model/encoded_data.csv'\n",
    "df.to_csv(csv_file_path, index=False)\n",
    "\n",
    "# Speichern Sie die Encoder-Objekte mit joblib\n",
    "encoders_file_path = '../model/encoders.joblib'\n",
    "dump(encoders, encoders_file_path)\n",
    "\n",
    "csv_file_path, encoders_file_path\n"
   ]
  }
 ],
 "metadata": {
  "kernelspec": {
   "display_name": "base",
   "language": "python",
   "name": "python3"
  },
  "language_info": {
   "codemirror_mode": {
    "name": "ipython",
    "version": 3
   },
   "file_extension": ".py",
   "mimetype": "text/x-python",
   "name": "python",
   "nbconvert_exporter": "python",
   "pygments_lexer": "ipython3",
   "version": "3.10.9"
  },
  "orig_nbformat": 4
 },
 "nbformat": 4,
 "nbformat_minor": 2
}
