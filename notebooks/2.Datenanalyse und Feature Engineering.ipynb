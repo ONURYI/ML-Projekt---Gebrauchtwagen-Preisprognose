{
 "cells": [
  {
   "cell_type": "code",
   "execution_count": null,
   "metadata": {},
   "outputs": [],
   "source": [
    "# Einlesen der CSV-Datei und Anzeigen der ersten Zeilen\n",
    "import pandas as pd\n",
    "\n",
    "file_path = \"../daten/audi.csv\"\n",
    "data = pd.read_csv(file_path)\n",
    "data.head()\n"
   ]
  },
  {
   "cell_type": "code",
   "execution_count": null,
   "metadata": {},
   "outputs": [],
   "source": [
    "# Deskriptive Statistiken für die numerischen Spalten\n",
    "descriptive_statistics = data.describe().T\n",
    "descriptive_statistics\n"
   ]
  },
  {
   "cell_type": "code",
   "execution_count": null,
   "metadata": {},
   "outputs": [],
   "source": [
    "# Überprüfung auf fehlende Werte in jeder Spalte\n",
    "missing_values = data.isnull().sum()\n",
    "missing_values\n"
   ]
  },
  {
   "cell_type": "code",
   "execution_count": null,
   "metadata": {},
   "outputs": [],
   "source": [
    "# Importieren der notwendigen Bibliotheken für die Visualisierung\n",
    "import seaborn as sns\n",
    "import matplotlib.pyplot as plt\n",
    "\n",
    "# Berechnung der Korrelationsmatrix\n",
    "correlation_matrix = data.corr()\n",
    "\n",
    "# Erstellung einer Heatmap zur Darstellung der Korrelationen\n",
    "plt.figure(figsize=(10, 8))\n",
    "sns.heatmap(correlation_matrix, annot=True, cmap=\"coolwarm\")\n",
    "plt.title(\"Korrelationsmatrix\")\n",
    "plt.show()\n"
   ]
  },
  {
   "cell_type": "code",
   "execution_count": null,
   "metadata": {},
   "outputs": [],
   "source": [
    "# Erstellen von Histogrammen für die numerischen Spalten\n",
    "numerical_columns = ['year', 'price', 'mileage', 'tax', 'mpg', 'engineSize']\n",
    "\n",
    "for column in numerical_columns:\n",
    "    plt.figure(figsize=(8, 6))\n",
    "    sns.histplot(data[column], kde=True, bins=20)\n",
    "    plt.title(f'Verteilung von {column}')\n",
    "    plt.xlabel(column)\n",
    "    plt.ylabel('Häufigkeit')\n",
    "    plt.show()\n"
   ]
  },
  {
   "cell_type": "code",
   "execution_count": null,
   "metadata": {},
   "outputs": [],
   "source": [
    "# Erstellen von Boxplots für kategoriale Variablen\n",
    "categorical_columns = ['model', 'transmission', 'fuelType']\n",
    "\n",
    "for column in categorical_columns:\n",
    "    plt.figure(figsize=(12, 6))\n",
    "    sns.boxplot(x=column, y='price', data=data)\n",
    "    plt.title(f'Preisverteilung nach {column}')\n",
    "    plt.xticks(rotation=45)\n",
    "    plt.show()\n"
   ]
  }
 ],
 "metadata": {
  "kernelspec": {
   "display_name": "base",
   "language": "python",
   "name": "python3"
  },
  "language_info": {
   "codemirror_mode": {
    "name": "ipython",
    "version": 3
   },
   "file_extension": ".py",
   "mimetype": "text/x-python",
   "name": "python",
   "nbconvert_exporter": "python",
   "pygments_lexer": "ipython3",
   "version": "3.11.3"
  },
  "orig_nbformat": 4
 },
 "nbformat": 4,
 "nbformat_minor": 2
}
