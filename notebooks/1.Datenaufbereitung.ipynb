{
 "cells": [
  {
   "cell_type": "markdown",
   "metadata": {},
   "source": [
    "## 1. Datenaufbereitung (Preprocessing)"
   ]
  },
  {
   "cell_type": "code",
   "execution_count": null,
   "metadata": {},
   "outputs": [],
   "source": [
    "import pandas as pd\n",
    "\n",
    "# Liste der Dateipfade mit dem relativen Pfad '../'\n",
    "file_paths = [\n",
    "    '../data/audi.csv',\n",
    "    '../data/bmw.csv',\n",
    "    '../data/ford.csv',\n",
    "    '../data/hyundi.csv',\n",
    "    '../data/mercedes.csv',\n",
    "    '../data/skoda.csv',\n",
    "    '../data/toyota.csv',\n",
    "    '../data/vauxhall.csv',\n",
    "    '../data/vw.csv',\n",
    "]\n",
    "\n",
    "# Liste, um alle DataFrames zu speichern\n",
    "all_dataframes = []\n",
    "\n",
    "# Durchlaufe alle Dateipfade und lade die CSV-Dateien\n",
    "for file_path in file_paths:\n",
    "    df = pd.read_csv(file_path)\n",
    "    brand = file_path.split('/')[-1].split('.')[0]  # Extrahiere die Marke aus dem Dateinamen\n",
    "    df['brand'] = brand  # Füge eine Spalte mit der Marke hinzu\n",
    "    # Ändere die Reihenfolge der Spalten, um \"brand\" an den Anfang zu setzen\n",
    "    df = df[['brand'] + [col for col in df.columns if col != 'brand']]\n",
    "    all_dataframes.append(df)\n",
    "\n",
    "# Verbinde alle DataFrames\n",
    "df = pd.concat(all_dataframes, ignore_index=True)"
   ]
  },
  {
   "cell_type": "code",
   "execution_count": null,
   "metadata": {},
   "outputs": [],
   "source": [
    "df.head()"
   ]
  },
  {
   "cell_type": "markdown",
   "metadata": {},
   "source": [
    "### Schritt 1: Überprüfung auf Duplikate"
   ]
  },
  {
   "cell_type": "code",
   "execution_count": null,
   "metadata": {},
   "outputs": [],
   "source": [
    "df.shape"
   ]
  },
  {
   "cell_type": "code",
   "execution_count": null,
   "metadata": {},
   "outputs": [],
   "source": [
    "# Überprüfung auf Duplikate\n",
    "duplicate_count = df.duplicated().sum()\n",
    "print(duplicate_count)"
   ]
  },
  {
   "cell_type": "code",
   "execution_count": null,
   "metadata": {},
   "outputs": [],
   "source": [
    "# Entfernen von Duplikaten, falls vorhanden\n",
    "if duplicate_count > 0:\n",
    "    data = df.drop_duplicates()"
   ]
  },
  {
   "cell_type": "markdown",
   "metadata": {},
   "source": [
    "### Schritt 2: Prüfung auf fehlende Werte"
   ]
  },
  {
   "cell_type": "code",
   "execution_count": null,
   "metadata": {},
   "outputs": [],
   "source": [
    "# Überprüfung auf fehlende Werte in jeder Spalte\n",
    "missing_values = data.isnull().sum()\n",
    "missing_values[missing_values > 0]"
   ]
  },
  {
   "cell_type": "markdown",
   "metadata": {},
   "source": [
    "Es gibt fehlende Werte in den Spalten tax, mpg, und tax(£). Die Spalte tax(£) scheint in einem großen Teil des Datensatzes zu fehlen. Wir könnten diese Spalte entfernen, da sie nicht viele Informationen enthält. Bei den anderen Spalten könnten wir die fehlenden Werte mit geeigneten Methoden behandeln, wie z.B. durch das Ausfüllen mit dem Durchschnittswert oder Median."
   ]
  },
  {
   "cell_type": "markdown",
   "metadata": {},
   "source": [
    "Entfernen der Spalte tax(£) und Behandeln von fehlenden Werten"
   ]
  },
  {
   "cell_type": "code",
   "execution_count": null,
   "metadata": {},
   "outputs": [],
   "source": [
    "# Entfernen der Spalte \"tax(£)\"\n",
    "df = data.drop(columns=['tax(£)'])\n",
    "\n",
    "# Fehlende Werte in den Spalten \"tax\" und \"mpg\" mit dem Median auffüllen\n",
    "df['tax'].fillna(df['tax'].median(), inplace=True)\n",
    "df['mpg'].fillna(df['mpg'].median(), inplace=True)\n",
    "\n",
    "# Überprüfung, ob noch fehlende Werte vorhanden sind\n",
    "df.isnull().sum()"
   ]
  },
  {
   "cell_type": "code",
   "execution_count": null,
   "metadata": {},
   "outputs": [],
   "source": [
    "print(df['year'].min())\n",
    "print(df['year'].max())"
   ]
  },
  {
   "cell_type": "code",
   "execution_count": null,
   "metadata": {},
   "outputs": [],
   "source": [
    "# Entfernen der Zeilen, in denen das Jahr 1970 oder 2060 ist\n",
    "df = df[(df['year'] != 1970) & (df['year'] != 2060)]\n",
    "\n",
    "# Überprüfung der neuen Form des Datensatzes\n",
    "df.shape"
   ]
  },
  {
   "cell_type": "code",
   "execution_count": null,
   "metadata": {},
   "outputs": [],
   "source": [
    "df['transmission'].unique()"
   ]
  },
  {
   "cell_type": "code",
   "execution_count": null,
   "metadata": {},
   "outputs": [],
   "source": [
    "df"
   ]
  },
  {
   "cell_type": "code",
   "execution_count": null,
   "metadata": {},
   "outputs": [],
   "source": [
    "unique_values_counts = df['fuelType'].value_counts()\n",
    "\n",
    "print(\"Einzelne eindeutige Werte und ihre Häufigkeit:\")\n",
    "print(unique_values_counts)"
   ]
  },
  {
   "cell_type": "code",
   "execution_count": null,
   "metadata": {},
   "outputs": [],
   "source": [
    "unique_values_counts = df['transmission'].value_counts()\n",
    "\n",
    "print(\"Einzelne eindeutige Werte und ihre Häufigkeit:\")\n",
    "print(unique_values_counts)"
   ]
  },
  {
   "cell_type": "code",
   "execution_count": null,
   "metadata": {},
   "outputs": [],
   "source": [
    "# Function to convert miles per gallon (mpg) to liters per 100 kilometers (l/100km)\n",
    "def mpg_to_l_per_100km(mpg):\n",
    "    return 235.215 / mpg\n",
    "\n",
    "# Function to convert miles to kilometers\n",
    "def miles_to_km(miles):\n",
    "    return miles * 1.60934\n",
    "\n",
    "# Translating column names\n",
    "df.columns = [\n",
    "    'Marke', 'Modell', 'Baujahr', 'Preis (£)', 'Getriebe', 'Kilometerstand', 'Kraftstoffart', 'Steuer (£)', 'Verbrauch (l/100km)', 'Motorgröße (l)']\n",
    "\n",
    "# Translating values in the 'Getriebe' column\n",
    "df['Getriebe'] = df['Getriebe'].map({'Manual': 'Manuell', \n",
    "                                     'Automatic': 'Automatik', \n",
    "                                     'Semi-Auto': 'Halbautomatisch'})\n",
    "\n",
    "# Translating values in the 'Kraftstoffart' column\n",
    "df['Kraftstoffart'] = df['Kraftstoffart'].map({'Petrol': 'Benzin', \n",
    "                                               'Diesel': 'Diesel', \n",
    "                                               'Hybrid': 'Hybrid',\n",
    "                                               'Other': 'Andere',\n",
    "                                               'Electric': 'Elektrisch'})\n",
    "\n",
    "# Converting mileage from miles to kilometers\n",
    "df['Kilometerstand'] = df['Kilometerstand'].apply(miles_to_km).astype(int)\n",
    "\n",
    "# Converting mpg to liters per 100 kilometers\n",
    "df['Verbrauch (l/100km)'] = df['Verbrauch (l/100km)'].apply(mpg_to_l_per_100km).round(2)\n",
    "\n",
    "# Capitalizing the first letter of each entry in the \"Marke\" column\n",
    "df['Marke'] = df['Marke'].str.capitalize()\n",
    "\n",
    "\n",
    "# Displaying the first few rows after rounding\n",
    "df.head()\n"
   ]
  },
  {
   "cell_type": "code",
   "execution_count": null,
   "metadata": {},
   "outputs": [],
   "source": [
    "# Wechselkurs von Pfund zu Euro festlegen\n",
    "exchange_rate = 1.15\n",
    "\n",
    "# Umrechnung der Preise und Steuern von Pfund in Euro\n",
    "df['Preis (€)'] = df['Preis (£)'] * exchange_rate\n",
    "df['Steuer (€)'] = df['Steuer (£)'] * exchange_rate\n",
    "\n",
    "df['Preis (€)']\n",
    "\n",
    "\n",
    "# Entfernen der alten Spalten in Pfund\n",
    "df.drop(columns=['Preis (£)', 'Steuer (£)'], inplace=True)\n",
    "\n",
    "# Anzeige der ersten 5 Zeilen des aktualisierten Datensatzes\n",
    "df.head()\n"
   ]
  },
  {
   "cell_type": "code",
   "execution_count": null,
   "metadata": {},
   "outputs": [],
   "source": [
    "df.shape"
   ]
  },
  {
   "cell_type": "code",
   "execution_count": null,
   "metadata": {},
   "outputs": [],
   "source": [
    "\n",
    "# Die Spalten auswählen, in denen Leerzeichen entfernt werden sollen\n",
    "string_columns = ['Marke', 'Modell', 'Getriebe', 'Kraftstoffart']\n",
    "\n",
    "# Leerzeichen in den ausgewählten Spalten entfernen\n",
    "df[string_columns] = df[string_columns].apply(lambda x: x.str.replace(\" \", \"\"))"
   ]
  },
  {
   "cell_type": "code",
   "execution_count": null,
   "metadata": {},
   "outputs": [],
   "source": [
    "df.to_csv('../data (clean)/df_clean.csv', index=False)"
   ]
  }
 ],
 "metadata": {
  "kernelspec": {
   "display_name": "base",
   "language": "python",
   "name": "python3"
  },
  "language_info": {
   "codemirror_mode": {
    "name": "ipython",
    "version": 3
   },
   "file_extension": ".py",
   "mimetype": "text/x-python",
   "name": "python",
   "nbconvert_exporter": "python",
   "pygments_lexer": "ipython3",
   "version": "3.10.9"
  },
  "orig_nbformat": 4
 },
 "nbformat": 4,
 "nbformat_minor": 2
}
