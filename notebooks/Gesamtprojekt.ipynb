{
 "cells": [
  {
   "cell_type": "markdown",
   "metadata": {},
   "source": [
    "<span style=\"color:DarkBlue;font-size:32px\">Preisvorhersage von Gebrauchtwagen </span>\n",
    "\n",
    "<span style=\"color:DarkBlue;font-size:18px\">Semesterabschließende schriftliche Ausarbeitung im Modul Machine Learning (SS2023)</span>\n",
    "\n",
    "<span style=\"color:DarkBlue;font-size:18px\"> Bearbeitet von M.Sc. Onur Yilmaz</span>"
   ]
  },
  {
   "cell_type": "markdown",
   "metadata": {},
   "source": [
    "### Inhaltsverzeichnis\n",
    "\n",
    "[Einleitung](#Einleitung)\n",
    "\n",
    "[1. Datenaufbereitung](#Datenaufbereitung)\n",
    "\n",
    "[1.1. Daten extrahieren](#Daten-extrahieren)\n",
    "\n",
    "[1.2. Daten bereinigen](#Daten-bereinigen)\n",
    "\n",
    "[1.3. Daten transformieren](#Daten-transformieren)\n",
    "\n",
    "[2. Explorative Datenanalyse](#Explorative-Datenanalyse)\n",
    "\n",
    "[2.1. Univariate Analyse](#Daten-extrahieren)\n",
    "\n",
    "[2.2. Bivariate Analyse](#Daten-extrahieren)\n",
    "\n",
    "[2.3. Multivariate Analyse](#Daten-extrahieren)\n",
    "\n",
    "[2.4. Identifikation von Ausreißern](#Daten-extrahieren)\n",
    "\n",
    "[2.5. Korrelationsanalyse](#Daten-extrahieren)\n",
    "\n",
    "[3. Feature Engineering](#Feature-Engineering)\n",
    "\n",
    "[4. Modell Auswahl und Training](#Modell-Auswahl-und-Training)\n",
    "\n",
    "[4.1. XGBoost](#XGBoost)\n",
    "\n",
    "[5. Modell Bewertung](#Modell-Bewertung)\n",
    "\n",
    "[6. Streamlit](#Streamlit)\n",
    "\n",
    "[Literaturverzeichnis](#Literaturverzeichnis)\n"
   ]
  },
  {
   "cell_type": "markdown",
   "metadata": {},
   "source": [
    "### <a id=\"Einleitung\"></a>**Einleitung**"
   ]
  },
  {
   "cell_type": "markdown",
   "metadata": {},
   "source": [
    "In der vorliegenden semesterabschließenden Arbeit wird ein aufbereiteter Datensatz von 100.000 gebrauchten Autoanzeigen aus dem Vereinigten Königreich analysiert. Der Datensatz wurde von der Plattform Kaggle bezogen - **https://www.kaggle.com/datasets/adityadesai13/used-car-dataset-ford-and-mercedes**.\n",
    "\n",
    "Das Hauptziel dieser Arbeit ist die Wahl und Implementierung eines geeigneten maschinellen Lernmodells zur Preisvorhersage von Gebrauchtwagen.\n",
    "\n",
    "Die Arbeit gliedert sich in verschiedene Abschnitte, beginnend mit der Datenaufbereitung, gefolgt von der explorativen Datenanalyse und dem Feature Engineering. Anschließend wird das passende Modell ausgewählt und trainiert, bevor es bewertet wird. Zusätzlich wird die Implementierung in Streamlit durchgeführt, um eine interaktive Webanwendung zur Darstellung der Ergebnisse zu erstellen.\n",
    "\n",
    "Der Datensatz ist in einzelne Dateien nach Autoherstellern unterteilt und enthält Informationen wie Preis, Getriebe, Kilometerstand, Kraftstoffart, Kfz-Steuer, Verbrauch in Meilen pro Gallone (mpg) und Motorgröße.\n",
    "\n",
    "**Das gesamte Projekt kann aus dem folgenden Repository geklont werden: https://www.github.com/ONURYI**"
   ]
  },
  {
   "cell_type": "markdown",
   "metadata": {},
   "source": [
    "### <a id=\"Datenaufbereitung\"></a>**1. Datenaufbereitung**"
   ]
  },
  {
   "cell_type": "markdown",
   "metadata": {},
   "source": [
    "#### <a id=\"Daten-extrahieren\"></a>**1.1. Daten extrahieren**"
   ]
  },
  {
   "cell_type": "markdown",
   "metadata": {},
   "source": [
    "Die Datenaufbereitung stellt im Prozess des maschinellen Lernens oft einen entscheidenden, aber zugleich zeitaufwendigen Schritt dar. Sie umfasst diverse Techniken zur Säuberung, Transformation und Organisation der Rohdaten, um sie in ein für die Analyse passendes Format zu überführen. Diese Etappe legt das solide Fundament für die Erstellung eines Modells, da sie die Qualität und Relevanz der Daten gewährleistet. Dies trägt maßgeblich zur Präzision und Leistungsfähigkeit des endgültigen Modells bei [2].\n",
    "\n",
    "Im Kontext unseres Projektes verwenden wir folgende CSV-Dateien (CSV = Comma-Separated Values):\n",
    "\n",
    "- audi.csv\n",
    "- bmw.csv\n",
    "- ford.csv\n",
    "- hyundai.csv\n",
    "- mercedes.csv\n",
    "- skoda.csv\n",
    "- toyota.csv\n",
    "- vauxhall.csv\n",
    "- vw.csv\n",
    "\n",
    "Diese Dateien sind im Ordner **/data** gespeichert und werden nach dem Aufbereitungs- und Bereinigungsprozess im Ordner **/data (clean)** als einzige zusammengefasste CSV-Datei abgelegt.\n",
    "\n",
    "Für diesen Abschnitt wird ausschließlich auf die weit verbreitete **Pandas-Bibliothek** zurückgegriffen, welche sich als leistungsfähiges Werkzeug zur Datenmanipulation und -analyse etabliert hat. Hierbei lesen wir die Daten aus und stellen die Daten als sog. **DataFrames** dar, da sie eine standardisierte, zweidimensionale Struktur bieten, die das Speichern, Manipulieren und Analysieren von tabellarischen Daten vereinfacht, wodurch die Datenanalyse und -verarbeitung insgesamt effizienter und übersichtlicher wird [3]."
   ]
  },
  {
   "cell_type": "code",
   "execution_count": 105,
   "metadata": {},
   "outputs": [],
   "source": [
    "import pandas as pd"
   ]
  },
  {
   "cell_type": "markdown",
   "metadata": {},
   "source": [
    "Wir lesen nun die ersten CSV-Files aus, uns erst einmal einen Überblick zu verschaffen:"
   ]
  },
  {
   "cell_type": "code",
   "execution_count": 106,
   "metadata": {},
   "outputs": [],
   "source": [
    "df_audi =  pd.read_csv('../data/audi.csv')\n",
    "df_ford  =  pd.read_csv('../data/ford.csv')"
   ]
  },
  {
   "cell_type": "code",
   "execution_count": 107,
   "metadata": {},
   "outputs": [
    {
     "data": {
      "text/html": [
       "<div>\n",
       "<style scoped>\n",
       "    .dataframe tbody tr th:only-of-type {\n",
       "        vertical-align: middle;\n",
       "    }\n",
       "\n",
       "    .dataframe tbody tr th {\n",
       "        vertical-align: top;\n",
       "    }\n",
       "\n",
       "    .dataframe thead th {\n",
       "        text-align: right;\n",
       "    }\n",
       "</style>\n",
       "<table border=\"1\" class=\"dataframe\">\n",
       "  <thead>\n",
       "    <tr style=\"text-align: right;\">\n",
       "      <th></th>\n",
       "      <th>model</th>\n",
       "      <th>year</th>\n",
       "      <th>price</th>\n",
       "      <th>transmission</th>\n",
       "      <th>mileage</th>\n",
       "      <th>fuelType</th>\n",
       "      <th>tax</th>\n",
       "      <th>mpg</th>\n",
       "      <th>engineSize</th>\n",
       "    </tr>\n",
       "  </thead>\n",
       "  <tbody>\n",
       "    <tr>\n",
       "      <th>0</th>\n",
       "      <td>A1</td>\n",
       "      <td>2017</td>\n",
       "      <td>12500</td>\n",
       "      <td>Manual</td>\n",
       "      <td>15735</td>\n",
       "      <td>Petrol</td>\n",
       "      <td>150</td>\n",
       "      <td>55.4</td>\n",
       "      <td>1.4</td>\n",
       "    </tr>\n",
       "    <tr>\n",
       "      <th>1</th>\n",
       "      <td>A6</td>\n",
       "      <td>2016</td>\n",
       "      <td>16500</td>\n",
       "      <td>Automatic</td>\n",
       "      <td>36203</td>\n",
       "      <td>Diesel</td>\n",
       "      <td>20</td>\n",
       "      <td>64.2</td>\n",
       "      <td>2.0</td>\n",
       "    </tr>\n",
       "    <tr>\n",
       "      <th>2</th>\n",
       "      <td>A1</td>\n",
       "      <td>2016</td>\n",
       "      <td>11000</td>\n",
       "      <td>Manual</td>\n",
       "      <td>29946</td>\n",
       "      <td>Petrol</td>\n",
       "      <td>30</td>\n",
       "      <td>55.4</td>\n",
       "      <td>1.4</td>\n",
       "    </tr>\n",
       "    <tr>\n",
       "      <th>3</th>\n",
       "      <td>A4</td>\n",
       "      <td>2017</td>\n",
       "      <td>16800</td>\n",
       "      <td>Automatic</td>\n",
       "      <td>25952</td>\n",
       "      <td>Diesel</td>\n",
       "      <td>145</td>\n",
       "      <td>67.3</td>\n",
       "      <td>2.0</td>\n",
       "    </tr>\n",
       "    <tr>\n",
       "      <th>4</th>\n",
       "      <td>A3</td>\n",
       "      <td>2019</td>\n",
       "      <td>17300</td>\n",
       "      <td>Manual</td>\n",
       "      <td>1998</td>\n",
       "      <td>Petrol</td>\n",
       "      <td>145</td>\n",
       "      <td>49.6</td>\n",
       "      <td>1.0</td>\n",
       "    </tr>\n",
       "  </tbody>\n",
       "</table>\n",
       "</div>"
      ],
      "text/plain": [
       "  model  year  price transmission  mileage fuelType  tax   mpg  engineSize\n",
       "0    A1  2017  12500       Manual    15735   Petrol  150  55.4         1.4\n",
       "1    A6  2016  16500    Automatic    36203   Diesel   20  64.2         2.0\n",
       "2    A1  2016  11000       Manual    29946   Petrol   30  55.4         1.4\n",
       "3    A4  2017  16800    Automatic    25952   Diesel  145  67.3         2.0\n",
       "4    A3  2019  17300       Manual     1998   Petrol  145  49.6         1.0"
      ]
     },
     "execution_count": 107,
     "metadata": {},
     "output_type": "execute_result"
    }
   ],
   "source": [
    "df_audi.head()"
   ]
  },
  {
   "cell_type": "code",
   "execution_count": 108,
   "metadata": {},
   "outputs": [
    {
     "data": {
      "text/html": [
       "<div>\n",
       "<style scoped>\n",
       "    .dataframe tbody tr th:only-of-type {\n",
       "        vertical-align: middle;\n",
       "    }\n",
       "\n",
       "    .dataframe tbody tr th {\n",
       "        vertical-align: top;\n",
       "    }\n",
       "\n",
       "    .dataframe thead th {\n",
       "        text-align: right;\n",
       "    }\n",
       "</style>\n",
       "<table border=\"1\" class=\"dataframe\">\n",
       "  <thead>\n",
       "    <tr style=\"text-align: right;\">\n",
       "      <th></th>\n",
       "      <th>model</th>\n",
       "      <th>year</th>\n",
       "      <th>price</th>\n",
       "      <th>transmission</th>\n",
       "      <th>mileage</th>\n",
       "      <th>fuelType</th>\n",
       "      <th>tax</th>\n",
       "      <th>mpg</th>\n",
       "      <th>engineSize</th>\n",
       "    </tr>\n",
       "  </thead>\n",
       "  <tbody>\n",
       "    <tr>\n",
       "      <th>0</th>\n",
       "      <td>Fiesta</td>\n",
       "      <td>2017</td>\n",
       "      <td>12000</td>\n",
       "      <td>Automatic</td>\n",
       "      <td>15944</td>\n",
       "      <td>Petrol</td>\n",
       "      <td>150</td>\n",
       "      <td>57.7</td>\n",
       "      <td>1.0</td>\n",
       "    </tr>\n",
       "    <tr>\n",
       "      <th>1</th>\n",
       "      <td>Focus</td>\n",
       "      <td>2018</td>\n",
       "      <td>14000</td>\n",
       "      <td>Manual</td>\n",
       "      <td>9083</td>\n",
       "      <td>Petrol</td>\n",
       "      <td>150</td>\n",
       "      <td>57.7</td>\n",
       "      <td>1.0</td>\n",
       "    </tr>\n",
       "    <tr>\n",
       "      <th>2</th>\n",
       "      <td>Focus</td>\n",
       "      <td>2017</td>\n",
       "      <td>13000</td>\n",
       "      <td>Manual</td>\n",
       "      <td>12456</td>\n",
       "      <td>Petrol</td>\n",
       "      <td>150</td>\n",
       "      <td>57.7</td>\n",
       "      <td>1.0</td>\n",
       "    </tr>\n",
       "    <tr>\n",
       "      <th>3</th>\n",
       "      <td>Fiesta</td>\n",
       "      <td>2019</td>\n",
       "      <td>17500</td>\n",
       "      <td>Manual</td>\n",
       "      <td>10460</td>\n",
       "      <td>Petrol</td>\n",
       "      <td>145</td>\n",
       "      <td>40.3</td>\n",
       "      <td>1.5</td>\n",
       "    </tr>\n",
       "    <tr>\n",
       "      <th>4</th>\n",
       "      <td>Fiesta</td>\n",
       "      <td>2019</td>\n",
       "      <td>16500</td>\n",
       "      <td>Automatic</td>\n",
       "      <td>1482</td>\n",
       "      <td>Petrol</td>\n",
       "      <td>145</td>\n",
       "      <td>48.7</td>\n",
       "      <td>1.0</td>\n",
       "    </tr>\n",
       "  </tbody>\n",
       "</table>\n",
       "</div>"
      ],
      "text/plain": [
       "     model  year  price transmission  mileage fuelType  tax   mpg  engineSize\n",
       "0   Fiesta  2017  12000    Automatic    15944   Petrol  150  57.7         1.0\n",
       "1    Focus  2018  14000       Manual     9083   Petrol  150  57.7         1.0\n",
       "2    Focus  2017  13000       Manual    12456   Petrol  150  57.7         1.0\n",
       "3   Fiesta  2019  17500       Manual    10460   Petrol  145  40.3         1.5\n",
       "4   Fiesta  2019  16500    Automatic     1482   Petrol  145  48.7         1.0"
      ]
     },
     "execution_count": 108,
     "metadata": {},
     "output_type": "execute_result"
    }
   ],
   "source": [
    "df_ford.head()"
   ]
  },
  {
   "cell_type": "markdown",
   "metadata": {},
   "source": [
    "Der Befehl *df.shape* gibt uns Auskunft über die zugehörige Dimension unseres DataFrames. Die erste Zahl, gibt die Anzahl der Zeilen und die zweite Zahl, die Anzahl der Spalten (auch Variable oder Merkmale genannt) wieder."
   ]
  },
  {
   "cell_type": "code",
   "execution_count": 109,
   "metadata": {},
   "outputs": [
    {
     "name": "stdout",
     "output_type": "stream",
     "text": [
      "(10668, 9)\n",
      "(17965, 9)\n"
     ]
    }
   ],
   "source": [
    "print(df_audi.shape)\n",
    "print(df_ford.shape)"
   ]
  },
  {
   "cell_type": "markdown",
   "metadata": {},
   "source": [
    "Um schließlich einen umfassenden Datensatz zu erhalten, fassen wir diesen in einem DataFrame zusammen, wobei wir eine zusätzliche Spalte hinzugefügt haben, die als brand bezeichnet wird und die Marke des Modells enthält."
   ]
  },
  {
   "cell_type": "code",
   "execution_count": 110,
   "metadata": {},
   "outputs": [],
   "source": [
    "file_paths = [\n",
    "    '../data/audi.csv',\n",
    "    '../data/bmw.csv',\n",
    "    '../data/ford.csv',\n",
    "    '../data/hyundi.csv',\n",
    "    '../data/mercedes.csv',\n",
    "    '../data/skoda.csv',\n",
    "    '../data/toyota.csv',\n",
    "    '../data/vauxhall.csv',\n",
    "    '../data/vw.csv',\n",
    "]\n",
    "\n",
    "all_dataframes = []\n",
    "\n",
    "# Durchlaufe alle Dateipfade und lade die CSV-Dateien\n",
    "for file_path in file_paths:\n",
    "    df = pd.read_csv(file_path)\n",
    "    brand = file_path.split('/')[-1].split('.')[0]  # Extrahiere die Marke aus dem Dateinamen\n",
    "    df['brand'] = brand  # Füge eine Spalte mit der Marke hinzu\n",
    "    # Ändere die Reihenfolge der Spalten, um \"brand\" an den Anfang zu setzen\n",
    "    df = df[['brand'] + [col for col in df.columns if col != 'brand']]\n",
    "    all_dataframes.append(df)\n",
    "\n",
    "df = pd.concat(all_dataframes, ignore_index=True)"
   ]
  },
  {
   "cell_type": "code",
   "execution_count": 111,
   "metadata": {},
   "outputs": [
    {
     "data": {
      "text/html": [
       "<div>\n",
       "<style scoped>\n",
       "    .dataframe tbody tr th:only-of-type {\n",
       "        vertical-align: middle;\n",
       "    }\n",
       "\n",
       "    .dataframe tbody tr th {\n",
       "        vertical-align: top;\n",
       "    }\n",
       "\n",
       "    .dataframe thead th {\n",
       "        text-align: right;\n",
       "    }\n",
       "</style>\n",
       "<table border=\"1\" class=\"dataframe\">\n",
       "  <thead>\n",
       "    <tr style=\"text-align: right;\">\n",
       "      <th></th>\n",
       "      <th>brand</th>\n",
       "      <th>model</th>\n",
       "      <th>year</th>\n",
       "      <th>price</th>\n",
       "      <th>transmission</th>\n",
       "      <th>mileage</th>\n",
       "      <th>fuelType</th>\n",
       "      <th>tax</th>\n",
       "      <th>mpg</th>\n",
       "      <th>engineSize</th>\n",
       "      <th>tax(£)</th>\n",
       "    </tr>\n",
       "  </thead>\n",
       "  <tbody>\n",
       "    <tr>\n",
       "      <th>0</th>\n",
       "      <td>audi</td>\n",
       "      <td>A1</td>\n",
       "      <td>2017</td>\n",
       "      <td>12500</td>\n",
       "      <td>Manual</td>\n",
       "      <td>15735</td>\n",
       "      <td>Petrol</td>\n",
       "      <td>150.0</td>\n",
       "      <td>55.4</td>\n",
       "      <td>1.4</td>\n",
       "      <td>NaN</td>\n",
       "    </tr>\n",
       "    <tr>\n",
       "      <th>1</th>\n",
       "      <td>audi</td>\n",
       "      <td>A6</td>\n",
       "      <td>2016</td>\n",
       "      <td>16500</td>\n",
       "      <td>Automatic</td>\n",
       "      <td>36203</td>\n",
       "      <td>Diesel</td>\n",
       "      <td>20.0</td>\n",
       "      <td>64.2</td>\n",
       "      <td>2.0</td>\n",
       "      <td>NaN</td>\n",
       "    </tr>\n",
       "    <tr>\n",
       "      <th>2</th>\n",
       "      <td>audi</td>\n",
       "      <td>A1</td>\n",
       "      <td>2016</td>\n",
       "      <td>11000</td>\n",
       "      <td>Manual</td>\n",
       "      <td>29946</td>\n",
       "      <td>Petrol</td>\n",
       "      <td>30.0</td>\n",
       "      <td>55.4</td>\n",
       "      <td>1.4</td>\n",
       "      <td>NaN</td>\n",
       "    </tr>\n",
       "    <tr>\n",
       "      <th>3</th>\n",
       "      <td>audi</td>\n",
       "      <td>A4</td>\n",
       "      <td>2017</td>\n",
       "      <td>16800</td>\n",
       "      <td>Automatic</td>\n",
       "      <td>25952</td>\n",
       "      <td>Diesel</td>\n",
       "      <td>145.0</td>\n",
       "      <td>67.3</td>\n",
       "      <td>2.0</td>\n",
       "      <td>NaN</td>\n",
       "    </tr>\n",
       "    <tr>\n",
       "      <th>4</th>\n",
       "      <td>audi</td>\n",
       "      <td>A3</td>\n",
       "      <td>2019</td>\n",
       "      <td>17300</td>\n",
       "      <td>Manual</td>\n",
       "      <td>1998</td>\n",
       "      <td>Petrol</td>\n",
       "      <td>145.0</td>\n",
       "      <td>49.6</td>\n",
       "      <td>1.0</td>\n",
       "      <td>NaN</td>\n",
       "    </tr>\n",
       "  </tbody>\n",
       "</table>\n",
       "</div>"
      ],
      "text/plain": [
       "  brand model  year  price transmission  mileage fuelType    tax   mpg  \\\n",
       "0  audi    A1  2017  12500       Manual    15735   Petrol  150.0  55.4   \n",
       "1  audi    A6  2016  16500    Automatic    36203   Diesel   20.0  64.2   \n",
       "2  audi    A1  2016  11000       Manual    29946   Petrol   30.0  55.4   \n",
       "3  audi    A4  2017  16800    Automatic    25952   Diesel  145.0  67.3   \n",
       "4  audi    A3  2019  17300       Manual     1998   Petrol  145.0  49.6   \n",
       "\n",
       "   engineSize  tax(£)  \n",
       "0         1.4     NaN  \n",
       "1         2.0     NaN  \n",
       "2         1.4     NaN  \n",
       "3         2.0     NaN  \n",
       "4         1.0     NaN  "
      ]
     },
     "execution_count": 111,
     "metadata": {},
     "output_type": "execute_result"
    }
   ],
   "source": [
    "df.head()"
   ]
  },
  {
   "cell_type": "code",
   "execution_count": 112,
   "metadata": {},
   "outputs": [
    {
     "data": {
      "text/plain": [
       "(99187, 11)"
      ]
     },
     "execution_count": 112,
     "metadata": {},
     "output_type": "execute_result"
    }
   ],
   "source": [
    "df.shape"
   ]
  },
  {
   "cell_type": "markdown",
   "metadata": {},
   "source": [
    "#### <a id=\"Daten-bereinigen\"></a>**1.2. Daten bereinigen**"
   ]
  },
  {
   "cell_type": "markdown",
   "metadata": {},
   "source": [
    "Um redundate Daten vorzubeugen müssen wir vorab unsere Daten auf Duplikate prüfen:"
   ]
  },
  {
   "cell_type": "code",
   "execution_count": 113,
   "metadata": {},
   "outputs": [
    {
     "name": "stdout",
     "output_type": "stream",
     "text": [
      "1475\n"
     ]
    },
    {
     "data": {
      "text/plain": [
       "(97712, 11)"
      ]
     },
     "execution_count": 113,
     "metadata": {},
     "output_type": "execute_result"
    }
   ],
   "source": [
    "duplicate_count = df.duplicated().sum()\n",
    "print(duplicate_count)\n",
    "\n",
    "df = df.drop_duplicates()\n",
    "\n",
    "df.shape"
   ]
  },
  {
   "cell_type": "markdown",
   "metadata": {},
   "source": [
    "Insgesamt hat sich der Datensatz somit um 1457 Zeilen reduziert. \n",
    "\n",
    "Als nächsten Schritt prüfen wir den Datensatz anschließend auf fehlende Werte:"
   ]
  },
  {
   "cell_type": "code",
   "execution_count": 114,
   "metadata": {},
   "outputs": [
    {
     "data": {
      "text/plain": [
       "tax        4774\n",
       "tax(£)    92938\n",
       "dtype: int64"
      ]
     },
     "execution_count": 114,
     "metadata": {},
     "output_type": "execute_result"
    }
   ],
   "source": [
    "missing_values = df.isnull().sum()\n",
    "missing_values[missing_values > 0]"
   ]
  },
  {
   "cell_type": "markdown",
   "metadata": {},
   "source": [
    "Es gibt fehlende Werte in den Spalten tax, mpg, und tax(£). \n",
    "\n",
    "Gerade die Spalte tax(£) scheint in einem großen Teil des Datensatzes zu fehlen, weshalb wir die Spalte entfernen können, aufgrund fehlendem Informationsgehalt.\n",
    "\n",
    "\n",
    "Die anderen Spalten könnten wir die fehlenden Werte mit geeigneten Methoden behandeln, wie z.B. durch das Ausfüllen mit dem Durchschnittswert oder Median."
   ]
  },
  {
   "cell_type": "code",
   "execution_count": 115,
   "metadata": {},
   "outputs": [],
   "source": [
    "df = df.drop(columns=['tax(£)'])\n",
    "df['tax'].fillna(df['tax'].median(), inplace=True)\n",
    "df['mpg'].fillna(df['mpg'].median(), inplace=True)"
   ]
  },
  {
   "cell_type": "code",
   "execution_count": 116,
   "metadata": {},
   "outputs": [
    {
     "data": {
      "text/plain": [
       "brand           0\n",
       "model           0\n",
       "year            0\n",
       "price           0\n",
       "transmission    0\n",
       "mileage         0\n",
       "fuelType        0\n",
       "tax             0\n",
       "mpg             0\n",
       "engineSize      0\n",
       "dtype: int64"
      ]
     },
     "execution_count": 116,
     "metadata": {},
     "output_type": "execute_result"
    }
   ],
   "source": [
    "df.isnull().sum()"
   ]
  },
  {
   "cell_type": "markdown",
   "metadata": {},
   "source": [
    "Nun nachdem wir geprüft haben, dass auch die Daten keine fehlenden Werte (**missing values**) mehr enthalten, müssen wir nun schauen das unsere Daten insgesamt plausibel sind."
   ]
  },
  {
   "cell_type": "code",
   "execution_count": 117,
   "metadata": {},
   "outputs": [
    {
     "name": "stdout",
     "output_type": "stream",
     "text": [
      "1970\n",
      "2060\n"
     ]
    }
   ],
   "source": [
    "print(df['year'].min())\n",
    "print(df['year'].max())"
   ]
  },
  {
   "cell_type": "markdown",
   "metadata": {},
   "source": [
    "Diese problematischen Zeilen müssen wir nun einmal filtern."
   ]
  },
  {
   "cell_type": "code",
   "execution_count": 118,
   "metadata": {},
   "outputs": [],
   "source": [
    "df = df[(df['year'] != 1970) & (df['year'] != 2060)]"
   ]
  },
  {
   "cell_type": "code",
   "execution_count": 119,
   "metadata": {},
   "outputs": [
    {
     "data": {
      "text/plain": [
       "(97709, 10)"
      ]
     },
     "execution_count": 119,
     "metadata": {},
     "output_type": "execute_result"
    }
   ],
   "source": [
    "df.shape"
   ]
  },
  {
   "cell_type": "code",
   "execution_count": 120,
   "metadata": {},
   "outputs": [
    {
     "name": "stdout",
     "output_type": "stream",
     "text": [
      "Einzelne eindeutige Werte und ihre Häufigkeit:\n",
      "Manual       55501\n",
      "Semi-Auto    22296\n",
      "Automatic    19903\n",
      "Other            9\n",
      "Name: transmission, dtype: int64\n"
     ]
    }
   ],
   "source": [
    "unique_values_counts = df['transmission'].value_counts()\n",
    "\n",
    "print(\"Einzelne eindeutige Werte und ihre Häufigkeit:\")\n",
    "print(unique_values_counts)"
   ]
  },
  {
   "cell_type": "code",
   "execution_count": 121,
   "metadata": {},
   "outputs": [
    {
     "name": "stdout",
     "output_type": "stream",
     "text": [
      "Einzelne eindeutige Werte und ihre Häufigkeit:\n",
      "Petrol      53980\n",
      "Diesel      40418\n",
      "Hybrid       3059\n",
      "Other         246\n",
      "Electric        6\n",
      "Name: fuelType, dtype: int64\n"
     ]
    }
   ],
   "source": [
    "unique_values_counts = df['fuelType'].value_counts()\n",
    "\n",
    "print(\"Einzelne eindeutige Werte und ihre Häufigkeit:\")\n",
    "print(unique_values_counts)"
   ]
  },
  {
   "cell_type": "markdown",
   "metadata": {},
   "source": [
    "#### <a id=\"Daten-transformieren\"></a>**1.3. Daten transformieren**"
   ]
  },
  {
   "cell_type": "markdown",
   "metadata": {},
   "source": [
    "Da es sich bei dem vorliegenden Datensatz um einen UK-Datensatz handelt, waren die Spalten und Zeilen ursprünglich für den englischsprachigen Raum konzipiert. Um jedoch eine bessere Interpretierbarkeit unserer Daten im deutschsprachigen Kontext zu gewährleisten, haben wir die Daten entsprechend transformiert. \n",
    "\n",
    "**Es ist wichtig zu betonen, dass die Konvertierung von Einheiten und die Abweichung von den Rohdaten problematisch sein können!**\n",
    "\n",
    "Hierbei wurde [4] hinzugezogen um noch einmal auf die Richtigkeit der Funktionen zu überprüfen und nachzujustieren."
   ]
  },
  {
   "cell_type": "code",
   "execution_count": 122,
   "metadata": {},
   "outputs": [],
   "source": [
    "# Funktion Umrechnung von (mpg) zu (l/100km)\n",
    "def mpg_to_l_per_100km(mpg):\n",
    "    return 235.215 / mpg\n",
    "\n",
    "# Funktion Umrechnung Meilen zu km\n",
    "def miles_to_km(miles):\n",
    "    return miles * 1.60934"
   ]
  },
  {
   "cell_type": "code",
   "execution_count": 123,
   "metadata": {},
   "outputs": [],
   "source": [
    "df.columns = [\n",
    "    'Marke', 'Modell', 'Baujahr', 'Preis (£)', 'Getriebe', 'Kilometerstand', 'Kraftstoffart', 'Steuer (£)', 'Verbrauch (l/100km)', 'Motorgröße (l)']\n",
    "\n",
    "df['Getriebe'] = df['Getriebe'].map({'Manual': 'Manuell', \n",
    "                                     'Automatic': 'Automatik', \n",
    "                                     'Semi-Auto': 'Halbautomatisch',\n",
    "                                     'Other': 'Andere'})\n",
    "\n",
    "df['Kraftstoffart'] = df['Kraftstoffart'].map({'Petrol': 'Benzin', \n",
    "                                               'Diesel': 'Diesel', \n",
    "                                               'Hybrid': 'Hybrid',\n",
    "                                               'Other': 'Andere',\n",
    "                                               'Electric': 'Elektrisch'})\n",
    "\n",
    "df['Kilometerstand'] = df['Kilometerstand'].apply(miles_to_km).astype(int)\n",
    "\n",
    "df['Verbrauch (l/100km)'] = df['Verbrauch (l/100km)'].apply(mpg_to_l_per_100km).round(2)\n",
    "\n",
    "df['Marke'] = df['Marke'].str.capitalize()"
   ]
  },
  {
   "cell_type": "code",
   "execution_count": 124,
   "metadata": {},
   "outputs": [],
   "source": [
    "# Wechselkurs von Pfund zu Euro festlegen\n",
    "exchange_rate = 1.15\n",
    "\n",
    "# Umrechnung der Preise und Steuern von Pfund in Euro\n",
    "df['Preis (€)'] = df['Preis (£)'] * exchange_rate\n",
    "df['Steuer (€)'] = df['Steuer (£)'] * exchange_rate\n",
    "\n",
    "df['Preis (€)']\n",
    "\n",
    "\n",
    "# Entfernen der alten Spalten in Pfund\n",
    "df.drop(columns=['Preis (£)', 'Steuer (£)'], inplace=True)"
   ]
  },
  {
   "cell_type": "code",
   "execution_count": 125,
   "metadata": {},
   "outputs": [],
   "source": [
    "string_columns = ['Marke', 'Modell', 'Getriebe', 'Kraftstoffart']\n",
    "\n",
    "# Leerzeichen in den ausgewählten Spalten entfernen\n",
    "df[string_columns] = df[string_columns].apply(lambda x: x.str.replace(\" \", \"\"))"
   ]
  },
  {
   "cell_type": "code",
   "execution_count": 126,
   "metadata": {},
   "outputs": [
    {
     "data": {
      "text/html": [
       "<div>\n",
       "<style scoped>\n",
       "    .dataframe tbody tr th:only-of-type {\n",
       "        vertical-align: middle;\n",
       "    }\n",
       "\n",
       "    .dataframe tbody tr th {\n",
       "        vertical-align: top;\n",
       "    }\n",
       "\n",
       "    .dataframe thead th {\n",
       "        text-align: right;\n",
       "    }\n",
       "</style>\n",
       "<table border=\"1\" class=\"dataframe\">\n",
       "  <thead>\n",
       "    <tr style=\"text-align: right;\">\n",
       "      <th></th>\n",
       "      <th>Marke</th>\n",
       "      <th>Modell</th>\n",
       "      <th>Baujahr</th>\n",
       "      <th>Getriebe</th>\n",
       "      <th>Kilometerstand</th>\n",
       "      <th>Kraftstoffart</th>\n",
       "      <th>Verbrauch (l/100km)</th>\n",
       "      <th>Motorgröße (l)</th>\n",
       "      <th>Preis (€)</th>\n",
       "      <th>Steuer (€)</th>\n",
       "    </tr>\n",
       "  </thead>\n",
       "  <tbody>\n",
       "    <tr>\n",
       "      <th>0</th>\n",
       "      <td>Audi</td>\n",
       "      <td>A1</td>\n",
       "      <td>2017</td>\n",
       "      <td>Manuell</td>\n",
       "      <td>25322</td>\n",
       "      <td>Benzin</td>\n",
       "      <td>4.25</td>\n",
       "      <td>1.4</td>\n",
       "      <td>14375.00</td>\n",
       "      <td>172.50</td>\n",
       "    </tr>\n",
       "    <tr>\n",
       "      <th>1</th>\n",
       "      <td>Audi</td>\n",
       "      <td>A6</td>\n",
       "      <td>2016</td>\n",
       "      <td>Automatik</td>\n",
       "      <td>58262</td>\n",
       "      <td>Diesel</td>\n",
       "      <td>3.66</td>\n",
       "      <td>2.0</td>\n",
       "      <td>18975.00</td>\n",
       "      <td>23.00</td>\n",
       "    </tr>\n",
       "    <tr>\n",
       "      <th>2</th>\n",
       "      <td>Audi</td>\n",
       "      <td>A1</td>\n",
       "      <td>2016</td>\n",
       "      <td>Manuell</td>\n",
       "      <td>48193</td>\n",
       "      <td>Benzin</td>\n",
       "      <td>4.25</td>\n",
       "      <td>1.4</td>\n",
       "      <td>12650.00</td>\n",
       "      <td>34.50</td>\n",
       "    </tr>\n",
       "    <tr>\n",
       "      <th>3</th>\n",
       "      <td>Audi</td>\n",
       "      <td>A4</td>\n",
       "      <td>2017</td>\n",
       "      <td>Automatik</td>\n",
       "      <td>41765</td>\n",
       "      <td>Diesel</td>\n",
       "      <td>3.50</td>\n",
       "      <td>2.0</td>\n",
       "      <td>19320.00</td>\n",
       "      <td>166.75</td>\n",
       "    </tr>\n",
       "    <tr>\n",
       "      <th>4</th>\n",
       "      <td>Audi</td>\n",
       "      <td>A3</td>\n",
       "      <td>2019</td>\n",
       "      <td>Manuell</td>\n",
       "      <td>3215</td>\n",
       "      <td>Benzin</td>\n",
       "      <td>4.74</td>\n",
       "      <td>1.0</td>\n",
       "      <td>19895.00</td>\n",
       "      <td>166.75</td>\n",
       "    </tr>\n",
       "    <tr>\n",
       "      <th>...</th>\n",
       "      <td>...</td>\n",
       "      <td>...</td>\n",
       "      <td>...</td>\n",
       "      <td>...</td>\n",
       "      <td>...</td>\n",
       "      <td>...</td>\n",
       "      <td>...</td>\n",
       "      <td>...</td>\n",
       "      <td>...</td>\n",
       "      <td>...</td>\n",
       "    </tr>\n",
       "    <tr>\n",
       "      <th>99182</th>\n",
       "      <td>Vw</td>\n",
       "      <td>Eos</td>\n",
       "      <td>2012</td>\n",
       "      <td>Manuell</td>\n",
       "      <td>119091</td>\n",
       "      <td>Diesel</td>\n",
       "      <td>3.99</td>\n",
       "      <td>2.0</td>\n",
       "      <td>6888.50</td>\n",
       "      <td>143.75</td>\n",
       "    </tr>\n",
       "    <tr>\n",
       "      <th>99183</th>\n",
       "      <td>Vw</td>\n",
       "      <td>Fox</td>\n",
       "      <td>2008</td>\n",
       "      <td>Manuell</td>\n",
       "      <td>141786</td>\n",
       "      <td>Benzin</td>\n",
       "      <td>5.08</td>\n",
       "      <td>1.2</td>\n",
       "      <td>2068.85</td>\n",
       "      <td>166.75</td>\n",
       "    </tr>\n",
       "    <tr>\n",
       "      <th>99184</th>\n",
       "      <td>Vw</td>\n",
       "      <td>Fox</td>\n",
       "      <td>2009</td>\n",
       "      <td>Manuell</td>\n",
       "      <td>112653</td>\n",
       "      <td>Benzin</td>\n",
       "      <td>5.60</td>\n",
       "      <td>1.4</td>\n",
       "      <td>1828.50</td>\n",
       "      <td>230.00</td>\n",
       "    </tr>\n",
       "    <tr>\n",
       "      <th>99185</th>\n",
       "      <td>Vw</td>\n",
       "      <td>Fox</td>\n",
       "      <td>2006</td>\n",
       "      <td>Manuell</td>\n",
       "      <td>133098</td>\n",
       "      <td>Benzin</td>\n",
       "      <td>5.08</td>\n",
       "      <td>1.2</td>\n",
       "      <td>1437.50</td>\n",
       "      <td>172.50</td>\n",
       "    </tr>\n",
       "    <tr>\n",
       "      <th>99186</th>\n",
       "      <td>Vw</td>\n",
       "      <td>Fox</td>\n",
       "      <td>2007</td>\n",
       "      <td>Manuell</td>\n",
       "      <td>119091</td>\n",
       "      <td>Benzin</td>\n",
       "      <td>5.08</td>\n",
       "      <td>1.2</td>\n",
       "      <td>2639.25</td>\n",
       "      <td>166.75</td>\n",
       "    </tr>\n",
       "  </tbody>\n",
       "</table>\n",
       "<p>97709 rows × 10 columns</p>\n",
       "</div>"
      ],
      "text/plain": [
       "      Marke Modell  Baujahr   Getriebe  Kilometerstand Kraftstoffart  \\\n",
       "0      Audi     A1     2017    Manuell           25322        Benzin   \n",
       "1      Audi     A6     2016  Automatik           58262        Diesel   \n",
       "2      Audi     A1     2016    Manuell           48193        Benzin   \n",
       "3      Audi     A4     2017  Automatik           41765        Diesel   \n",
       "4      Audi     A3     2019    Manuell            3215        Benzin   \n",
       "...     ...    ...      ...        ...             ...           ...   \n",
       "99182    Vw    Eos     2012    Manuell          119091        Diesel   \n",
       "99183    Vw    Fox     2008    Manuell          141786        Benzin   \n",
       "99184    Vw    Fox     2009    Manuell          112653        Benzin   \n",
       "99185    Vw    Fox     2006    Manuell          133098        Benzin   \n",
       "99186    Vw    Fox     2007    Manuell          119091        Benzin   \n",
       "\n",
       "       Verbrauch (l/100km)  Motorgröße (l)  Preis (€)  Steuer (€)  \n",
       "0                     4.25             1.4   14375.00      172.50  \n",
       "1                     3.66             2.0   18975.00       23.00  \n",
       "2                     4.25             1.4   12650.00       34.50  \n",
       "3                     3.50             2.0   19320.00      166.75  \n",
       "4                     4.74             1.0   19895.00      166.75  \n",
       "...                    ...             ...        ...         ...  \n",
       "99182                 3.99             2.0    6888.50      143.75  \n",
       "99183                 5.08             1.2    2068.85      166.75  \n",
       "99184                 5.60             1.4    1828.50      230.00  \n",
       "99185                 5.08             1.2    1437.50      172.50  \n",
       "99186                 5.08             1.2    2639.25      166.75  \n",
       "\n",
       "[97709 rows x 10 columns]"
      ]
     },
     "execution_count": 126,
     "metadata": {},
     "output_type": "execute_result"
    }
   ],
   "source": [
    "df"
   ]
  },
  {
   "cell_type": "markdown",
   "metadata": {},
   "source": [
    "Speichern unseres bereinigten Datensatzes in der Ordner **\\data (clean)**:"
   ]
  },
  {
   "cell_type": "code",
   "execution_count": 127,
   "metadata": {},
   "outputs": [],
   "source": [
    "df.to_csv('../data (clean)/df_clean.csv', index=False)"
   ]
  },
  {
   "cell_type": "markdown",
   "metadata": {},
   "source": [
    "### <a id=\"Explorative-Datenanalyse\"></a>**2. Explorative Datenanalyse**\n"
   ]
  },
  {
   "cell_type": "code",
   "execution_count": 133,
   "metadata": {},
   "outputs": [],
   "source": [
    "import matplotlib.pyplot as plt\n",
    "import seaborn as sns"
   ]
  },
  {
   "cell_type": "code",
   "execution_count": 134,
   "metadata": {},
   "outputs": [
    {
     "data": {
      "text/plain": [
       "Marke                   object\n",
       "Modell                  object\n",
       "Baujahr                  int64\n",
       "Getriebe                object\n",
       "Kilometerstand           int64\n",
       "Kraftstoffart           object\n",
       "Verbrauch (l/100km)    float64\n",
       "Motorgröße (l)         float64\n",
       "Preis (€)              float64\n",
       "Steuer (€)             float64\n",
       "dtype: object"
      ]
     },
     "execution_count": 134,
     "metadata": {},
     "output_type": "execute_result"
    }
   ],
   "source": [
    "df.dtypes"
   ]
  },
  {
   "cell_type": "code",
   "execution_count": 135,
   "metadata": {},
   "outputs": [
    {
     "data": {
      "text/html": [
       "<div>\n",
       "<style scoped>\n",
       "    .dataframe tbody tr th:only-of-type {\n",
       "        vertical-align: middle;\n",
       "    }\n",
       "\n",
       "    .dataframe tbody tr th {\n",
       "        vertical-align: top;\n",
       "    }\n",
       "\n",
       "    .dataframe thead th {\n",
       "        text-align: right;\n",
       "    }\n",
       "</style>\n",
       "<table border=\"1\" class=\"dataframe\">\n",
       "  <thead>\n",
       "    <tr style=\"text-align: right;\">\n",
       "      <th></th>\n",
       "      <th>count</th>\n",
       "      <th>mean</th>\n",
       "      <th>std</th>\n",
       "      <th>min</th>\n",
       "      <th>25%</th>\n",
       "      <th>50%</th>\n",
       "      <th>75%</th>\n",
       "      <th>max</th>\n",
       "    </tr>\n",
       "  </thead>\n",
       "  <tbody>\n",
       "    <tr>\n",
       "      <th>Baujahr</th>\n",
       "      <td>97709.0</td>\n",
       "      <td>2017.067394</td>\n",
       "      <td>2.107849</td>\n",
       "      <td>1996.0</td>\n",
       "      <td>2016.00</td>\n",
       "      <td>2017.00</td>\n",
       "      <td>2019.00</td>\n",
       "      <td>2020.00</td>\n",
       "    </tr>\n",
       "    <tr>\n",
       "      <th>Kilometerstand</th>\n",
       "      <td>97709.0</td>\n",
       "      <td>37366.936638</td>\n",
       "      <td>33894.134448</td>\n",
       "      <td>1.0</td>\n",
       "      <td>12348.00</td>\n",
       "      <td>28456.00</td>\n",
       "      <td>52303.00</td>\n",
       "      <td>519816.00</td>\n",
       "    </tr>\n",
       "    <tr>\n",
       "      <th>Verbrauch (l/100km)</th>\n",
       "      <td>97709.0</td>\n",
       "      <td>4.543639</td>\n",
       "      <td>3.364841</td>\n",
       "      <td>0.5</td>\n",
       "      <td>3.75</td>\n",
       "      <td>4.33</td>\n",
       "      <td>4.99</td>\n",
       "      <td>784.05</td>\n",
       "    </tr>\n",
       "    <tr>\n",
       "      <th>Motorgröße (l)</th>\n",
       "      <td>97709.0</td>\n",
       "      <td>1.664936</td>\n",
       "      <td>0.558556</td>\n",
       "      <td>0.0</td>\n",
       "      <td>1.20</td>\n",
       "      <td>1.60</td>\n",
       "      <td>2.00</td>\n",
       "      <td>6.60</td>\n",
       "    </tr>\n",
       "    <tr>\n",
       "      <th>Preis (€)</th>\n",
       "      <td>97709.0</td>\n",
       "      <td>19289.608747</td>\n",
       "      <td>11348.882427</td>\n",
       "      <td>517.5</td>\n",
       "      <td>11498.85</td>\n",
       "      <td>16640.50</td>\n",
       "      <td>23862.50</td>\n",
       "      <td>183998.85</td>\n",
       "    </tr>\n",
       "    <tr>\n",
       "      <th>Steuer (€)</th>\n",
       "      <td>97709.0</td>\n",
       "      <td>139.497628</td>\n",
       "      <td>71.609723</td>\n",
       "      <td>0.0</td>\n",
       "      <td>143.75</td>\n",
       "      <td>166.75</td>\n",
       "      <td>166.75</td>\n",
       "      <td>667.00</td>\n",
       "    </tr>\n",
       "  </tbody>\n",
       "</table>\n",
       "</div>"
      ],
      "text/plain": [
       "                       count          mean           std     min       25%  \\\n",
       "Baujahr              97709.0   2017.067394      2.107849  1996.0   2016.00   \n",
       "Kilometerstand       97709.0  37366.936638  33894.134448     1.0  12348.00   \n",
       "Verbrauch (l/100km)  97709.0      4.543639      3.364841     0.5      3.75   \n",
       "Motorgröße (l)       97709.0      1.664936      0.558556     0.0      1.20   \n",
       "Preis (€)            97709.0  19289.608747  11348.882427   517.5  11498.85   \n",
       "Steuer (€)           97709.0    139.497628     71.609723     0.0    143.75   \n",
       "\n",
       "                          50%       75%        max  \n",
       "Baujahr               2017.00   2019.00    2020.00  \n",
       "Kilometerstand       28456.00  52303.00  519816.00  \n",
       "Verbrauch (l/100km)      4.33      4.99     784.05  \n",
       "Motorgröße (l)           1.60      2.00       6.60  \n",
       "Preis (€)            16640.50  23862.50  183998.85  \n",
       "Steuer (€)             166.75    166.75     667.00  "
      ]
     },
     "execution_count": 135,
     "metadata": {},
     "output_type": "execute_result"
    }
   ],
   "source": [
    "# Grundlegende statistische Beschreibung der numerischen Spalten\n",
    "df.describe().T"
   ]
  },
  {
   "cell_type": "markdown",
   "metadata": {},
   "source": [
    "#### <a id=\"Daten-bereinigen\"></a>**2.1. Univariate Analyse**"
   ]
  },
  {
   "cell_type": "code",
   "execution_count": 139,
   "metadata": {},
   "outputs": [
    {
     "data": {
      "image/png": "[encoded data removed]",
      "text/plain": [
       "<Figure size 1000x1000 with 6 Axes>"
      ]
     },
     "metadata": {},
     "output_type": "display_data"
    }
   ],
   "source": [
    "# Festlegen der Plot-Größe\n",
    "plt.figure(figsize=(10, 10))\n",
    "\n",
    "numerical_columns = ['Baujahr', 'Kilometerstand', 'Verbrauch (l/100km)', 'Motorgröße (l)', 'Preis (€)', 'Steuer (€)']\n",
    "\n",
    "# Erstellen von Subplots für jede numerische Variable\n",
    "for i, col in enumerate(numerical_columns, 1):\n",
    "    plt.subplot(2, 3, i)\n",
    "    sns.histplot(df[col], bins=20, kde=True)\n",
    "    plt.title(f'Verteilung von {col}')\n",
    "    plt.xlabel(col)\n",
    "    plt.ylabel('Anzahl')\n",
    "\n",
    "plt.tight_layout()\n",
    "plt.show()"
   ]
  },
  {
   "cell_type": "markdown",
   "metadata": {},
   "source": [
    "Als nächstes werden wir die Verteilung der kategorialen Variablen untersuchen."
   ]
  },
  {
   "cell_type": "code",
   "execution_count": 140,
   "metadata": {},
   "outputs": [
    {
     "data": {
      "image/png": "[encoded data removed]",
      "text/plain": [
       "<Figure size 1000x1000 with 3 Axes>"
      ]
     },
     "metadata": {},
     "output_type": "display_data"
    }
   ],
   "source": [
    "# Festlegen der Plot-Größe\n",
    "plt.figure(figsize=(10, 10))\n",
    "\n",
    "# Univariante Analyse der kategorischen Variablen\n",
    "categorical_columns = ['Marke', 'Getriebe', 'Kraftstoffart']\n",
    "\n",
    "# Erstellen von Subplots für jede kategorische Variable\n",
    "for i, col in enumerate(categorical_columns, 1):\n",
    "    plt.subplot(2, 2, i)\n",
    "    sns.countplot(data=df, y=col, order=df[col].value_counts().index)\n",
    "    plt.title(f'Verteilung von {col}')\n",
    "    plt.xlabel('Anzahl')\n",
    "    plt.ylabel(col)\n",
    "\n",
    "plt.tight_layout()\n",
    "plt.show()\n"
   ]
  },
  {
   "cell_type": "code",
   "execution_count": null,
   "metadata": {},
   "outputs": [],
   "source": []
  },
  {
   "cell_type": "code",
   "execution_count": null,
   "metadata": {},
   "outputs": [],
   "source": []
  },
  {
   "cell_type": "code",
   "execution_count": null,
   "metadata": {},
   "outputs": [],
   "source": []
  },
  {
   "cell_type": "code",
   "execution_count": null,
   "metadata": {},
   "outputs": [],
   "source": []
  },
  {
   "cell_type": "markdown",
   "metadata": {},
   "source": [
    "### **Literaturverzeichnis**\n",
    "\n",
    "[1] https://www.kaggle.com/datasets/adityadesai13/used-car-dataset-ford-and-mercedes (01.08.2023)\n",
    "\n",
    "[2] Müller, A. C., & Guido, S. (2021). Introduction to Machine Learning with Python: A Guide for Data Scientists (2nd ed.). O'Reilly Media\n",
    "\n",
    "[3] McKinney, W. (2017). Python for Data Analysis: Data Wrangling with Pandas, NumPy, and IPython (2nd ed.). O'Reilly Media.\n",
    "\n",
    "[4] OpenAI. (2023). Persönliche Kommunikation mit OpenAI's GPT-3.5 Modell. (01.08.2023)\n",
    " \n",
    "\n"
   ]
  }
 ],
 "metadata": {
  "kernelspec": {
   "display_name": "base",
   "language": "python",
   "name": "python3"
  },
  "language_info": {
   "codemirror_mode": {
    "name": "ipython",
    "version": 3
   },
   "file_extension": ".py",
   "mimetype": "text/x-python",
   "name": "python",
   "nbconvert_exporter": "python",
   "pygments_lexer": "ipython3",
   "version": "3.10.9"
  },
  "orig_nbformat": 4
 },
 "nbformat": 4,
 "nbformat_minor": 2
}
