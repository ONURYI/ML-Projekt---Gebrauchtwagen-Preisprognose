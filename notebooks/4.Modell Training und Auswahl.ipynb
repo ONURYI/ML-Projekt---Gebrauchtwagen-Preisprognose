{
 "cells": [
  {
   "cell_type": "markdown",
   "metadata": {},
   "source": [
    "## 4. Modell Training und Auswahl"
   ]
  },
  {
   "cell_type": "code",
   "execution_count": 2,
   "metadata": {},
   "outputs": [
    {
     "data": {
      "text/plain": [
       "(   Marke  Modell  Baujahr  Getriebe  Kilometerstand  Kraftstoffart  \\\n",
       " 0      0      12     2017         2           25322              1   \n",
       " 1      0      17     2016         0           58262              2   \n",
       " 2      0      12     2016         2           48193              1   \n",
       " 3      0      15     2017         0           41765              2   \n",
       " 4      0      14     2019         2            3215              1   \n",
       " \n",
       "    Verbrauch (l/100km)  Motorgröße (l)  Preis (€)  \n",
       " 0                 4.25             1.4    14375.0  \n",
       " 1                 3.66             2.0    18975.0  \n",
       " 2                 4.25             1.4    12650.0  \n",
       " 3                 3.50             2.0    19320.0  \n",
       " 4                 4.74             1.0    19895.0  ,\n",
       " dict_keys(['Marke', 'Modell', 'Getriebe', 'Kraftstoffart']))"
      ]
     },
     "execution_count": 2,
     "metadata": {},
     "output_type": "execute_result"
    }
   ],
   "source": [
    "import pandas as pd\n",
    "import pickle\n",
    "\n",
    "# Laden des transformierten Datensatzes\n",
    "df_transformed = pd.read_csv('../model/df_transformed.csv')\n",
    "\n",
    "# Laden der LabelEncoder-Objekte\n",
    "with open('../model/label_encoders.pkl', 'rb') as handle:\n",
    "    loaded_label_encoders = pickle.load(handle)\n",
    "\n",
    "# Überprüfen der ersten Zeilen des Datensatzes\n",
    "df_transformed.head(), loaded_label_encoders.keys()\n"
   ]
  },
  {
   "cell_type": "code",
   "execution_count": 3,
   "metadata": {},
   "outputs": [
    {
     "data": {
      "text/plain": [
       "((78167, 8), (19542, 8), (78167,), (19542,))"
      ]
     },
     "execution_count": 3,
     "metadata": {},
     "output_type": "execute_result"
    }
   ],
   "source": [
    "from sklearn.model_selection import train_test_split\n",
    "\n",
    "# Trennen der Features und der Zielvariable\n",
    "X = df_transformed.drop(columns=['Preis (€)'])\n",
    "y = df_transformed['Preis (€)']\n",
    "\n",
    "# Aufteilen des Datensatzes in Trainings- und Testsets (80% Training, 20% Test)\n",
    "X_train, X_test, y_train, y_test = train_test_split(X, y, test_size=0.2, random_state=42)\n",
    "\n",
    "# Überprüfen der Größe der Trainings- und Testsets\n",
    "X_train.shape, X_test.shape, y_train.shape, y_test.shape\n"
   ]
  },
  {
   "cell_type": "code",
   "execution_count": 4,
   "metadata": {},
   "outputs": [
    {
     "data": {
      "text/plain": [
       "(0.9695696321162255, 0.9640909742581282)"
      ]
     },
     "execution_count": 4,
     "metadata": {},
     "output_type": "execute_result"
    }
   ],
   "source": [
    "import xgboost as xgb\n",
    "\n",
    "# Erstellen des XGBoost-Regressionsmodells\n",
    "xgb_model = xgb.XGBRegressor(objective=\"reg:squarederror\", random_state=42)\n",
    "\n",
    "# Trainieren des Modells mit den Trainingsdaten\n",
    "xgb_model.fit(X_train, y_train)\n",
    "\n",
    "# Überprüfen der Trainingsleistung\n",
    "train_score = xgb_model.score(X_train, y_train)\n",
    "\n",
    "# Überprüfen der Testleistung\n",
    "test_score = xgb_model.score(X_test, y_test)\n",
    "\n",
    "train_score, test_score\n"
   ]
  },
  {
   "cell_type": "markdown",
   "metadata": {},
   "source": [
    "Trainingsgenauigkeit (R²-Wert):  0.9701\n",
    "\n",
    "Testgenauigkeit (R²-Wert): 0.9645\n",
    "\n",
    "Diese Werte zeigen, dass das Modell gut auf die Trainingsdaten passt und auch eine gute Leistung auf den Testdaten zeigt."
   ]
  },
  {
   "cell_type": "code",
   "execution_count": 5,
   "metadata": {},
   "outputs": [
    {
     "data": {
      "text/plain": [
       "'../model/xgb_model.json'"
      ]
     },
     "execution_count": 5,
     "metadata": {},
     "output_type": "execute_result"
    }
   ],
   "source": [
    "# Speicherpfad für das XGBoost-Modell im JSON-Format\n",
    "xgb_model_json_path = '../model/xgb_model.json'\n",
    "\n",
    "# Speichern des XGBoost-Modells im JSON-Format\n",
    "xgb_model.save_model(xgb_model_json_path)\n",
    "\n",
    "xgb_model_json_path\n"
   ]
  }
 ],
 "metadata": {
  "kernelspec": {
   "display_name": "base",
   "language": "python",
   "name": "python3"
  },
  "language_info": {
   "codemirror_mode": {
    "name": "ipython",
    "version": 3
   },
   "file_extension": ".py",
   "mimetype": "text/x-python",
   "name": "python",
   "nbconvert_exporter": "python",
   "pygments_lexer": "ipython3",
   "version": "3.10.9"
  },
  "orig_nbformat": 4
 },
 "nbformat": 4,
 "nbformat_minor": 2
}
