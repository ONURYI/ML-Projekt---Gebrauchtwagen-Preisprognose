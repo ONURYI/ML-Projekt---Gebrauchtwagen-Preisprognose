{
 "cells": [
  {
   "cell_type": "markdown",
   "metadata": {},
   "source": [
    "## 4. Modell Training und Auswahl"
   ]
  },
  {
   "cell_type": "code",
   "execution_count": 10,
   "metadata": {},
   "outputs": [],
   "source": [
    "import pandas as pd\n",
    "import pickle\n",
    "\n",
    "from sklearn.preprocessing import LabelEncoder\n",
    "import pandas as pd\n",
    "\n",
    "original_df = pd.read_csv('../data (clean)/cleaned_data.csv')\n",
    "X = pd.read_csv('../model/feature_matrix.csv')\n",
    "y = pd.read_csv('../model/target_variable.csv')\n",
    "\n",
    "# Load the encoders from the file in the 'model' folder\n",
    "with open('../model/encoders.pkl', 'rb') as file:\n",
    "    encoders = pickle.load(file)"
   ]
  },
  {
   "cell_type": "code",
   "execution_count": 11,
   "metadata": {},
   "outputs": [
    {
     "data": {
      "text/plain": [
       "4757645.140852629"
      ]
     },
     "execution_count": 11,
     "metadata": {},
     "output_type": "execute_result"
    }
   ],
   "source": [
    "# Importing necessary libraries\n",
    "from sklearn.model_selection import train_test_split\n",
    "from xgboost import XGBRegressor\n",
    "from sklearn.metrics import mean_squared_error\n",
    "\n",
    "# Splitting the data into training and testing sets\n",
    "X_train, X_test, y_train, y_test = train_test_split(X, y, test_size=0.2, random_state=42)\n",
    "\n",
    "# Initializing the XGBoost Regressor\n",
    "xgb_model = XGBRegressor()\n",
    "\n",
    "# Training the model\n",
    "xgb_model.fit(X_train, y_train)\n",
    "\n",
    "# Making predictions on the test set\n",
    "y_pred = xgb_model.predict(X_test)\n",
    "\n",
    "# Calculating the Mean Squared Error\n",
    "mse = mean_squared_error(y_test, y_pred)\n",
    "mse"
   ]
  },
  {
   "cell_type": "code",
   "execution_count": 12,
   "metadata": {},
   "outputs": [
    {
     "data": {
      "text/plain": [
       "96.36840419405755"
      ]
     },
     "execution_count": 12,
     "metadata": {},
     "output_type": "execute_result"
    }
   ],
   "source": [
    "# Importing the necessary library to calculate R^2 score\n",
    "from sklearn.metrics import r2_score\n",
    "\n",
    "# Calculating the R^2 score\n",
    "r2 = r2_score(y_test, y_pred)\n",
    "\n",
    "# Converting R^2 score to percentage\n",
    "r2_percentage = r2 * 100\n",
    "r2_percentage"
   ]
  },
  {
   "cell_type": "code",
   "execution_count": 13,
   "metadata": {},
   "outputs": [
    {
     "data": {
      "text/plain": [
       "['../model/trained_model(xgb).joblib']"
      ]
     },
     "execution_count": 13,
     "metadata": {},
     "output_type": "execute_result"
    }
   ],
   "source": [
    "import joblib\n",
    "\n",
    "# Annahme: Das trainierte Modell ist in der Variable 'model' gespeichert\n",
    "joblib.dump(xgb_model, '../model/trained_model(xgb).joblib')"
   ]
  },
  {
   "cell_type": "code",
   "execution_count": 14,
   "metadata": {},
   "outputs": [],
   "source": [
    "label_columns = ['Marke', 'Modell', 'Getriebe', 'Kraftstoffart']\n",
    "current_year = 2023"
   ]
  },
  {
   "cell_type": "code",
   "execution_count": 15,
   "metadata": {},
   "outputs": [],
   "source": [
    "def predict_car_price(Marke, Modell, Baujahr, Getriebe, Kilometerstand,\n",
    "                      Kraftstoffart, Verbrauch, Motorgröße):\n",
    "    # Adding a space before the 'Modell' value to match the original data\n",
    "    Modell = ' ' + Modell\n",
    "\n",
    "    # Creating a DataFrame from the input values\n",
    "    input_data = pd.DataFrame({\n",
    "        'Marke': [Marke],\n",
    "        'Modell': [Modell],\n",
    "        'Baujahr': [Baujahr],\n",
    "        'Getriebe': [Getriebe],\n",
    "        'Kilometerstand': [Kilometerstand],\n",
    "        'Kraftstoffart': [Kraftstoffart],\n",
    "        'Verbrauch (l/100km)': [Verbrauch],\n",
    "        'Motorgröße (l)': [Motorgröße]\n",
    "    })\n",
    "\n",
    "    # Applying Label Encoding to the categorical columns\n",
    "    for column in label_columns:\n",
    "        encoder = encoders[column]\n",
    "        input_data[column] = encoder.transform(input_data[column])\n",
    "\n",
    "    # Calculating the age of the car\n",
    "    input_data['Alter'] = current_year - input_data['Baujahr']\n",
    "\n",
    "    # Making the prediction using the trained XGBoost model\n",
    "    predicted_price = xgb_model.predict(input_data)\n",
    "\n",
    "    return predicted_price[0]"
   ]
  },
  {
   "cell_type": "code",
   "execution_count": null,
   "metadata": {},
   "outputs": [],
   "source": [
    "# Example prediction\n",
    "example_prediction = predict_car_price(\n",
    "    Marke='Audi', Modell='A6', Baujahr=2017, Getriebe='Manuell',\n",
    "    Kilometerstand=25322, Kraftstoffart='Benzin', Verbrauch=4.25,\n",
    "    Motorgröße=1.4\n",
    ")"
   ]
  }
 ],
 "metadata": {
  "kernelspec": {
   "display_name": "base",
   "language": "python",
   "name": "python3"
  },
  "language_info": {
   "codemirror_mode": {
    "name": "ipython",
    "version": 3
   },
   "file_extension": ".py",
   "mimetype": "text/x-python",
   "name": "python",
   "nbconvert_exporter": "python",
   "pygments_lexer": "ipython3",
   "version": "3.10.9"
  },
  "orig_nbformat": 4
 },
 "nbformat": 4,
 "nbformat_minor": 2
}
