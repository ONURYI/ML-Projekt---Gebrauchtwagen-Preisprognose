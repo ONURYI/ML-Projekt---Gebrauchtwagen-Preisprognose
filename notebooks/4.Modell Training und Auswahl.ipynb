{
 "cells": [
  {
   "cell_type": "markdown",
   "metadata": {},
   "source": [
    "## 4. Modell Training und Auswahl"
   ]
  },
  {
   "cell_type": "code",
   "execution_count": null,
   "metadata": {},
   "outputs": [],
   "source": [
    "import pandas as pd\n",
    "import pickle\n",
    "\n",
    "from sklearn.preprocessing import LabelEncoder\n",
    "import pandas as pd\n",
    "\n",
    "original_df = pd.read_csv('../data (clean)/cleaned_data.csv')\n",
    "X = pd.read_csv('../model/feature_matrix.csv')\n",
    "y = pd.read_csv('../model/target_variable.csv')\n",
    "\n",
    "# Load the encoders from the file in the 'model' folder\n",
    "with open('../model/encoders.pkl', 'rb') as file:\n",
    "    encoders = pickle.load(file)"
   ]
  },
  {
   "cell_type": "code",
   "execution_count": null,
   "metadata": {},
   "outputs": [],
   "source": [
    "# Importing necessary libraries\n",
    "from sklearn.model_selection import train_test_split\n",
    "from xgboost import XGBRegressor\n",
    "from sklearn.metrics import mean_squared_error\n",
    "\n",
    "# Splitting the data into training and testing sets\n",
    "X_train, X_test, y_train, y_test = train_test_split(X, y, test_size=0.2, random_state=42)\n",
    "\n",
    "# Initializing the XGBoost Regressor\n",
    "xgb_model = XGBRegressor()\n",
    "\n",
    "# Training the model\n",
    "xgb_model.fit(X_train, y_train)\n",
    "\n",
    "# Making predictions on the test set\n",
    "y_pred = xgb_model.predict(X_test)\n",
    "\n",
    "# Calculating the Mean Squared Error\n",
    "mse = mean_squared_error(y_test, y_pred)\n",
    "mse"
   ]
  },
  {
   "cell_type": "code",
   "execution_count": null,
   "metadata": {},
   "outputs": [],
   "source": [
    "# Importing the necessary library to calculate R^2 score\n",
    "from sklearn.metrics import r2_score\n",
    "\n",
    "# Calculating the R^2 score\n",
    "r2 = r2_score(y_test, y_pred)\n",
    "\n",
    "# Converting R^2 score to percentage\n",
    "r2_percentage = r2 * 100\n",
    "r2_percentage"
   ]
  },
  {
   "cell_type": "code",
   "execution_count": null,
   "metadata": {},
   "outputs": [],
   "source": [
    "label_columns = ['Marke', 'Modell', 'Getriebe', 'Kraftstoffart']\n",
    "current_year = 2023"
   ]
  },
  {
   "cell_type": "code",
   "execution_count": 25,
   "metadata": {},
   "outputs": [],
   "source": [
    "def predict_car_price(Marke, Modell, Baujahr, Getriebe, Kilometerstand,\n",
    "                      Kraftstoffart, Verbrauch, Motorgröße):\n",
    "    # Adding a space before the 'Modell' value to match the original data\n",
    "    Modell = ' ' + Modell\n",
    "\n",
    "    # Creating a DataFrame from the input values\n",
    "    input_data = pd.DataFrame({\n",
    "        'Marke': [Marke],\n",
    "        'Modell': [Modell],\n",
    "        'Baujahr': [Baujahr],\n",
    "        'Getriebe': [Getriebe],\n",
    "        'Kilometerstand': [Kilometerstand],\n",
    "        'Kraftstoffart': [Kraftstoffart],\n",
    "        'Verbrauch (l/100km)': [Verbrauch],\n",
    "        'Motorgröße (l)': [Motorgröße]\n",
    "    })\n",
    "\n",
    "    # Applying Label Encoding to the categorical columns\n",
    "    for column in label_columns:\n",
    "        encoder = encoders[column]\n",
    "        input_data[column] = encoder.transform(input_data[column])\n",
    "\n",
    "    # Calculating the age of the car\n",
    "    input_data['Alter'] = current_year - input_data['Baujahr']\n",
    "\n",
    "    # Making the prediction using the trained XGBoost model\n",
    "    predicted_price = xgb_model.predict(input_data)\n",
    "\n",
    "    return predicted_price[0]\n"
   ]
  },
  {
   "cell_type": "code",
   "execution_count": 26,
   "metadata": {},
   "outputs": [
    {
     "ename": "ValueError",
     "evalue": "invalid literal for int() with base 10: 'Audi'",
     "output_type": "error",
     "traceback": [
      "\u001b[0;31m---------------------------------------------------------------------------\u001b[0m",
      "\u001b[0;31mValueError\u001b[0m                                Traceback (most recent call last)",
      "Cell \u001b[0;32mIn[26], line 2\u001b[0m\n\u001b[1;32m      1\u001b[0m \u001b[39m# Example prediction\u001b[39;00m\n\u001b[0;32m----> 2\u001b[0m example_prediction \u001b[39m=\u001b[39m predict_car_price(\n\u001b[1;32m      3\u001b[0m     Marke\u001b[39m=\u001b[39;49m\u001b[39m'\u001b[39;49m\u001b[39mAudi\u001b[39;49m\u001b[39m'\u001b[39;49m, Modell\u001b[39m=\u001b[39;49m\u001b[39m'\u001b[39;49m\u001b[39mA1\u001b[39;49m\u001b[39m'\u001b[39;49m, Baujahr\u001b[39m=\u001b[39;49m\u001b[39m2017\u001b[39;49m, Getriebe\u001b[39m=\u001b[39;49m\u001b[39m'\u001b[39;49m\u001b[39mManuell\u001b[39;49m\u001b[39m'\u001b[39;49m,\n\u001b[1;32m      4\u001b[0m     Kilometerstand\u001b[39m=\u001b[39;49m\u001b[39m25322\u001b[39;49m, Kraftstoffart\u001b[39m=\u001b[39;49m\u001b[39m'\u001b[39;49m\u001b[39mBenzin\u001b[39;49m\u001b[39m'\u001b[39;49m, Verbrauch\u001b[39m=\u001b[39;49m\u001b[39m4.25\u001b[39;49m,\n\u001b[1;32m      5\u001b[0m     Motorgröße\u001b[39m=\u001b[39;49m\u001b[39m1.4\u001b[39;49m\n\u001b[1;32m      6\u001b[0m )\n",
      "Cell \u001b[0;32mIn[25], line 21\u001b[0m, in \u001b[0;36mpredict_car_price\u001b[0;34m(Marke, Modell, Baujahr, Getriebe, Kilometerstand, Kraftstoffart, Verbrauch, Motorgröße)\u001b[0m\n\u001b[1;32m     19\u001b[0m \u001b[39mfor\u001b[39;00m column \u001b[39min\u001b[39;00m label_columns:\n\u001b[1;32m     20\u001b[0m     encoder \u001b[39m=\u001b[39m encoders[column]\n\u001b[0;32m---> 21\u001b[0m     input_data[column] \u001b[39m=\u001b[39m encoder\u001b[39m.\u001b[39;49mtransform(input_data[column])\n\u001b[1;32m     23\u001b[0m \u001b[39m# Calculating the age of the car\u001b[39;00m\n\u001b[1;32m     24\u001b[0m input_data[\u001b[39m'\u001b[39m\u001b[39mAlter\u001b[39m\u001b[39m'\u001b[39m] \u001b[39m=\u001b[39m current_year \u001b[39m-\u001b[39m input_data[\u001b[39m'\u001b[39m\u001b[39mBaujahr\u001b[39m\u001b[39m'\u001b[39m]\n",
      "File \u001b[0;32m~/anaconda3/lib/python3.10/site-packages/sklearn/utils/_set_output.py:142\u001b[0m, in \u001b[0;36m_wrap_method_output.<locals>.wrapped\u001b[0;34m(self, X, *args, **kwargs)\u001b[0m\n\u001b[1;32m    140\u001b[0m \u001b[39m@wraps\u001b[39m(f)\n\u001b[1;32m    141\u001b[0m \u001b[39mdef\u001b[39;00m \u001b[39mwrapped\u001b[39m(\u001b[39mself\u001b[39m, X, \u001b[39m*\u001b[39margs, \u001b[39m*\u001b[39m\u001b[39m*\u001b[39mkwargs):\n\u001b[0;32m--> 142\u001b[0m     data_to_wrap \u001b[39m=\u001b[39m f(\u001b[39mself\u001b[39;49m, X, \u001b[39m*\u001b[39;49margs, \u001b[39m*\u001b[39;49m\u001b[39m*\u001b[39;49mkwargs)\n\u001b[1;32m    143\u001b[0m     \u001b[39mif\u001b[39;00m \u001b[39misinstance\u001b[39m(data_to_wrap, \u001b[39mtuple\u001b[39m):\n\u001b[1;32m    144\u001b[0m         \u001b[39m# only wrap the first output for cross decomposition\u001b[39;00m\n\u001b[1;32m    145\u001b[0m         \u001b[39mreturn\u001b[39;00m (\n\u001b[1;32m    146\u001b[0m             _wrap_data_with_container(method, data_to_wrap[\u001b[39m0\u001b[39m], X, \u001b[39mself\u001b[39m),\n\u001b[1;32m    147\u001b[0m             \u001b[39m*\u001b[39mdata_to_wrap[\u001b[39m1\u001b[39m:],\n\u001b[1;32m    148\u001b[0m         )\n",
      "File \u001b[0;32m~/anaconda3/lib/python3.10/site-packages/sklearn/preprocessing/_label.py:134\u001b[0m, in \u001b[0;36mLabelEncoder.transform\u001b[0;34m(self, y)\u001b[0m\n\u001b[1;32m    121\u001b[0m \u001b[39m\"\"\"Transform labels to normalized encoding.\u001b[39;00m\n\u001b[1;32m    122\u001b[0m \n\u001b[1;32m    123\u001b[0m \u001b[39mParameters\u001b[39;00m\n\u001b[0;32m   (...)\u001b[0m\n\u001b[1;32m    131\u001b[0m \u001b[39m    Labels as normalized encodings.\u001b[39;00m\n\u001b[1;32m    132\u001b[0m \u001b[39m\"\"\"\u001b[39;00m\n\u001b[1;32m    133\u001b[0m check_is_fitted(\u001b[39mself\u001b[39m)\n\u001b[0;32m--> 134\u001b[0m y \u001b[39m=\u001b[39m column_or_1d(y, dtype\u001b[39m=\u001b[39;49m\u001b[39mself\u001b[39;49m\u001b[39m.\u001b[39;49mclasses_\u001b[39m.\u001b[39;49mdtype, warn\u001b[39m=\u001b[39;49m\u001b[39mTrue\u001b[39;49;00m)\n\u001b[1;32m    135\u001b[0m \u001b[39m# transform of empty array is empty array\u001b[39;00m\n\u001b[1;32m    136\u001b[0m \u001b[39mif\u001b[39;00m _num_samples(y) \u001b[39m==\u001b[39m \u001b[39m0\u001b[39m:\n",
      "File \u001b[0;32m~/anaconda3/lib/python3.10/site-packages/sklearn/utils/validation.py:1179\u001b[0m, in \u001b[0;36mcolumn_or_1d\u001b[0;34m(y, dtype, warn)\u001b[0m\n\u001b[1;32m   1153\u001b[0m \u001b[39m\"\"\"Ravel column or 1d numpy array, else raises an error.\u001b[39;00m\n\u001b[1;32m   1154\u001b[0m \n\u001b[1;32m   1155\u001b[0m \u001b[39mParameters\u001b[39;00m\n\u001b[0;32m   (...)\u001b[0m\n\u001b[1;32m   1176\u001b[0m \u001b[39m    If `y` is not a 1D array or a 2D array with a single row or column.\u001b[39;00m\n\u001b[1;32m   1177\u001b[0m \u001b[39m\"\"\"\u001b[39;00m\n\u001b[1;32m   1178\u001b[0m xp, _ \u001b[39m=\u001b[39m get_namespace(y)\n\u001b[0;32m-> 1179\u001b[0m y \u001b[39m=\u001b[39m check_array(\n\u001b[1;32m   1180\u001b[0m     y,\n\u001b[1;32m   1181\u001b[0m     ensure_2d\u001b[39m=\u001b[39;49m\u001b[39mFalse\u001b[39;49;00m,\n\u001b[1;32m   1182\u001b[0m     dtype\u001b[39m=\u001b[39;49mdtype,\n\u001b[1;32m   1183\u001b[0m     input_name\u001b[39m=\u001b[39;49m\u001b[39m\"\u001b[39;49m\u001b[39my\u001b[39;49m\u001b[39m\"\u001b[39;49m,\n\u001b[1;32m   1184\u001b[0m     force_all_finite\u001b[39m=\u001b[39;49m\u001b[39mFalse\u001b[39;49;00m,\n\u001b[1;32m   1185\u001b[0m     ensure_min_samples\u001b[39m=\u001b[39;49m\u001b[39m0\u001b[39;49m,\n\u001b[1;32m   1186\u001b[0m )\n\u001b[1;32m   1188\u001b[0m shape \u001b[39m=\u001b[39m y\u001b[39m.\u001b[39mshape\n\u001b[1;32m   1189\u001b[0m \u001b[39mif\u001b[39;00m \u001b[39mlen\u001b[39m(shape) \u001b[39m==\u001b[39m \u001b[39m1\u001b[39m:\n",
      "File \u001b[0;32m~/anaconda3/lib/python3.10/site-packages/sklearn/utils/validation.py:877\u001b[0m, in \u001b[0;36mcheck_array\u001b[0;34m(array, accept_sparse, accept_large_sparse, dtype, order, copy, force_all_finite, ensure_2d, allow_nd, ensure_min_samples, ensure_min_features, estimator, input_name)\u001b[0m\n\u001b[1;32m    869\u001b[0m     \u001b[39mif\u001b[39;00m array\u001b[39m.\u001b[39mdtype\u001b[39m.\u001b[39mkind \u001b[39m==\u001b[39m \u001b[39m\"\u001b[39m\u001b[39mf\u001b[39m\u001b[39m\"\u001b[39m:\n\u001b[1;32m    870\u001b[0m         _assert_all_finite(\n\u001b[1;32m    871\u001b[0m             array,\n\u001b[1;32m    872\u001b[0m             allow_nan\u001b[39m=\u001b[39m\u001b[39mFalse\u001b[39;00m,\n\u001b[0;32m   (...)\u001b[0m\n\u001b[1;32m    875\u001b[0m             input_name\u001b[39m=\u001b[39minput_name,\n\u001b[1;32m    876\u001b[0m         )\n\u001b[0;32m--> 877\u001b[0m     array \u001b[39m=\u001b[39m xp\u001b[39m.\u001b[39;49mastype(array, dtype, copy\u001b[39m=\u001b[39;49m\u001b[39mFalse\u001b[39;49;00m)\n\u001b[1;32m    878\u001b[0m \u001b[39melse\u001b[39;00m:\n\u001b[1;32m    879\u001b[0m     array \u001b[39m=\u001b[39m _asarray_with_order(array, order\u001b[39m=\u001b[39morder, dtype\u001b[39m=\u001b[39mdtype, xp\u001b[39m=\u001b[39mxp)\n",
      "File \u001b[0;32m~/anaconda3/lib/python3.10/site-packages/sklearn/utils/_array_api.py:68\u001b[0m, in \u001b[0;36m_NumPyApiWrapper.astype\u001b[0;34m(self, x, dtype, copy, casting)\u001b[0m\n\u001b[1;32m     66\u001b[0m \u001b[39mdef\u001b[39;00m \u001b[39mastype\u001b[39m(\u001b[39mself\u001b[39m, x, dtype, \u001b[39m*\u001b[39m, copy\u001b[39m=\u001b[39m\u001b[39mTrue\u001b[39;00m, casting\u001b[39m=\u001b[39m\u001b[39m\"\u001b[39m\u001b[39munsafe\u001b[39m\u001b[39m\"\u001b[39m):\n\u001b[1;32m     67\u001b[0m     \u001b[39m# astype is not defined in the top level NumPy namespace\u001b[39;00m\n\u001b[0;32m---> 68\u001b[0m     \u001b[39mreturn\u001b[39;00m x\u001b[39m.\u001b[39;49mastype(dtype, copy\u001b[39m=\u001b[39;49mcopy, casting\u001b[39m=\u001b[39;49mcasting)\n",
      "\u001b[0;31mValueError\u001b[0m: invalid literal for int() with base 10: 'Audi'"
     ]
    }
   ],
   "source": [
    "# Example prediction\n",
    "example_prediction = predict_car_price(\n",
    "    Marke='Audi', Modell='A1', Baujahr=2017, Getriebe='Manuell',\n",
    "    Kilometerstand=25322, Kraftstoffart='Benzin', Verbrauch=4.25,\n",
    "    Motorgröße=1.4\n",
    ")"
   ]
  },
  {
   "cell_type": "code",
   "execution_count": null,
   "metadata": {},
   "outputs": [],
   "source": []
  }
 ],
 "metadata": {
  "kernelspec": {
   "display_name": "base",
   "language": "python",
   "name": "python3"
  },
  "language_info": {
   "codemirror_mode": {
    "name": "ipython",
    "version": 3
   },
   "file_extension": ".py",
   "mimetype": "text/x-python",
   "name": "python",
   "nbconvert_exporter": "python",
   "pygments_lexer": "ipython3",
   "version": "3.10.9"
  },
  "orig_nbformat": 4
 },
 "nbformat": 4,
 "nbformat_minor": 2
}
