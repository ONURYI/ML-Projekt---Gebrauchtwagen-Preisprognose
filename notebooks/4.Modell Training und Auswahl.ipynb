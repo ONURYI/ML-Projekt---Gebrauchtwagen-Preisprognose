{
 "cells": [
  {
   "cell_type": "markdown",
   "metadata": {},
   "source": [
    "## 4. Modell Training und Auswahl"
   ]
  },
  {
   "cell_type": "markdown",
   "metadata": {},
   "source": [
    "Die CSV-Datei enthält die kodierten Daten, die Sie für das Training und die Vorhersage verwenden werden.\n",
    "Die joblib-Datei enthält die Encoder, die Sie zum Decodieren der kategorischen Merkmale benötigen, wenn Sie die Originalkategorien wiederherstellen möchten.\n"
   ]
  },
  {
   "cell_type": "code",
   "execution_count": null,
   "metadata": {},
   "outputs": [],
   "source": [
    "from joblib import load\n",
    "import pandas as pd\n",
    "\n",
    "# Laden der kodierten Daten aus der CSV-Datei\n",
    "encoded_data_path = '../model/encoded_data.csv'\n",
    "encoded_data = pd.read_csv(encoded_data_path)\n",
    "\n",
    "\n",
    "# Laden der Encoder aus der joblib-Datei\n",
    "encoders_path = '../model/encoders.joblib'\n",
    "loaded_encoders = load(encoders_path)\n",
    "\n",
    "# Zeigen Sie die ersten paar Zeilen der kodierten Daten an\n",
    "encoded_data.head(), loaded_encoders\n"
   ]
  },
  {
   "cell_type": "markdown",
   "metadata": {},
   "source": [
    "## XGBoost"
   ]
  },
  {
   "cell_type": "code",
   "execution_count": null,
   "metadata": {},
   "outputs": [],
   "source": [
    "from sklearn.model_selection import train_test_split\n",
    "\n",
    "# Trennung der Merkmale und Labels\n",
    "X = encoded_data.drop(columns=['Preis (€)'])\n",
    "y = encoded_data['Preis (€)']\n",
    "\n",
    "# Aufteilen der Daten in Trainings- und Testsets (80% Training, 20% Test)\n",
    "X_train, X_test, y_train, y_test = train_test_split(X, y, test_size=0.2, random_state=42)\n",
    "\n",
    "# Größe der Trainings- und Testsets\n",
    "X_train.shape, X_test.shape, y_train.shape, y_test.shape\n"
   ]
  },
  {
   "cell_type": "markdown",
   "metadata": {},
   "source": [
    "### Trainieren des Modells"
   ]
  },
  {
   "cell_type": "code",
   "execution_count": null,
   "metadata": {},
   "outputs": [],
   "source": [
    "from xgboost import XGBRegressor\n",
    "\n",
    "# Erstellen des XGBoost-Regressionsmodells\n",
    "xgb_model = XGBRegressor(objective='reg:squarederror', random_state=42)\n",
    "\n",
    "# Training des Modells mit den Trainingsdaten\n",
    "xgb_model.fit(X_train, y_train)\n"
   ]
  },
  {
   "cell_type": "markdown",
   "metadata": {},
   "source": [
    "### Bewertung des Modells"
   ]
  },
  {
   "cell_type": "code",
   "execution_count": null,
   "metadata": {},
   "outputs": [],
   "source": [
    "from sklearn.metrics import mean_absolute_error\n",
    "\n",
    "# Vorhersagen auf den Testdaten\n",
    "y_pred = xgb_model.predict(X_test)\n",
    "\n",
    "# Berechnen des mittleren absoluten Fehlers (MAE) zur Beurteilung der Modellleistung\n",
    "mae = mean_absolute_error(y_test, y_pred)\n",
    "print(\"Mittlerer absoluter Fehler (MAE):\", mae)"
   ]
  },
  {
   "cell_type": "code",
   "execution_count": null,
   "metadata": {},
   "outputs": [],
   "source": [
    "print(\"Mögliche Werte für 'Marke':\", loaded_encoders['Marke'].classes_)\n",
    "print(\"Mögliche Werte für 'Modell':\", loaded_encoders['Modell'].classes_)"
   ]
  },
  {
   "cell_type": "markdown",
   "metadata": {},
   "source": [
    "### Benutzereingabe für die Vorhersage akzeptieren:"
   ]
  },
  {
   "cell_type": "code",
   "execution_count": null,
   "metadata": {},
   "outputs": [],
   "source": [
    "def get_user_input(encoders):\n",
    "    user_input = {}\n",
    "    for feature, encoder in encoders.items():\n",
    "        print(f\"Bitte wählen Sie einen Wert für {feature} aus den folgenden Optionen:\")\n",
    "        classes_str = \", \".join(map(str, encoder.classes_))  # Formatierung der Klassen als Zeichenketten\n",
    "        print(classes_str)\n",
    "        value = input(f\"Geben Sie den Wert für {feature} ein: \")\n",
    "        if feature == 'Modell':\n",
    "            value = ' ' + value  # Leerzeichen voranstellen, wenn es sich um das Merkmal \"Modell\" handelt\n",
    "        while value not in encoder.classes_:\n",
    "            print(\"Ungültiger Wert. Bitte versuchen Sie es erneut.\")\n",
    "            value = input(f\"Geben Sie den Wert für {feature} ein: \")\n",
    "            if feature == 'Modell':\n",
    "                value = ' ' + value\n",
    "        user_input[feature] = value\n",
    "    # Hier können Sie weitere numerische Eingaben hinzufügen\n",
    "    user_input['Baujahr'] = int(input(\"Geben Sie das Baujahr ein: \"))\n",
    "    user_input['Kilometerstand'] = int(input(\"Geben Sie den Kilometerstand ein: \"))\n",
    "    user_input['Verbrauch (l/100km)'] = float(input(\"Geben Sie den Verbrauch (l/100km) ein: \"))\n",
    "    user_input['Motorgröße (l)'] = float(input(\"Geben Sie die Motorgröße (l) ein: \"))\n",
    "    return user_input"
   ]
  },
  {
   "cell_type": "code",
   "execution_count": null,
   "metadata": {},
   "outputs": [],
   "source": [
    "# Benutzereingabe erhalten\n",
    "user_input = get_user_input(loaded_encoders)\n",
    "\n",
    "# Vorhersage mit der Funktion von zuvor\n",
    "predicted_price = predict_price(user_input, xgb_model, loaded_encoders)\n",
    "\n",
    "# Ausgabe der vorhergesagten Preisvorhersage\n",
    "print(\"Vorhergesagter Preis (€):\", predicted_price)\n"
   ]
  }
 ],
 "metadata": {
  "kernelspec": {
   "display_name": "base",
   "language": "python",
   "name": "python3"
  },
  "language_info": {
   "codemirror_mode": {
    "name": "ipython",
    "version": 3
   },
   "file_extension": ".py",
   "mimetype": "text/x-python",
   "name": "python",
   "nbconvert_exporter": "python",
   "pygments_lexer": "ipython3",
   "version": "3.10.9"
  },
  "orig_nbformat": 4
 },
 "nbformat": 4,
 "nbformat_minor": 2
}
